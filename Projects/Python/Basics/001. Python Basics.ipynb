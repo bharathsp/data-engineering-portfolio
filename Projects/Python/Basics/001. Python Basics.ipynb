{
 "cells": [
  {
   "cell_type": "markdown",
   "metadata": {},
   "source": [
    "# Python Basics"
   ]
  },
  {
   "cell_type": "code",
   "execution_count": 1,
   "metadata": {},
   "outputs": [
    {
     "name": "stdout",
     "output_type": "stream",
     "text": [
      "You are using python : \n",
      "Python 3.8.10\n"
     ]
    }
   ],
   "source": [
    "# Python version check\n",
    "\n",
    "print('You are using python : ')\n",
    "\n",
    "!python -V"
   ]
  },
  {
   "cell_type": "code",
   "execution_count": 2,
   "metadata": {},
   "outputs": [
    {
     "name": "stdout",
     "output_type": "stream",
     "text": [
      "300\n",
      "<class 'int'>\n",
      "bsp\n",
      "<class 'str'>\n"
     ]
    }
   ],
   "source": [
    "# Defining a variable\n",
    "\n",
    "n=300\n",
    "print(n)\n",
    "print(type(n))\n",
    "\n",
    "n='bsp'\n",
    "print(n)\n",
    "print(type(n))"
   ]
  },
  {
   "cell_type": "markdown",
   "metadata": {},
   "source": [
    "## Datatypes in python"
   ]
  },
  {
   "cell_type": "markdown",
   "metadata": {},
   "source": [
    "### 1 - None"
   ]
  },
  {
   "cell_type": "code",
   "execution_count": 3,
   "metadata": {},
   "outputs": [
    {
     "name": "stdout",
     "output_type": "stream",
     "text": [
      "<class 'NoneType'>\n"
     ]
    }
   ],
   "source": [
    "x=None\n",
    "print(type(x))"
   ]
  },
  {
   "cell_type": "markdown",
   "metadata": {},
   "source": [
    "### 2 - Numeric - int, float, complex, bool"
   ]
  },
  {
   "cell_type": "code",
   "execution_count": 4,
   "metadata": {},
   "outputs": [
    {
     "name": "stdout",
     "output_type": "stream",
     "text": [
      "<class 'int'>\n",
      "<class 'float'>\n",
      "<class 'complex'>\n",
      "<class 'bool'>\n",
      "False\n",
      "True\n"
     ]
    }
   ],
   "source": [
    "x=4\n",
    "print(type(x))\n",
    "\n",
    "x=4.5\n",
    "print(type(x))\n",
    "\n",
    "x=4+5j\n",
    "print(type(x))\n",
    "\n",
    "x=True\n",
    "print(type(x))\n",
    "\n",
    "y=not True\n",
    "print(y)\n",
    "print(not(y))"
   ]
  },
  {
   "cell_type": "markdown",
   "metadata": {},
   "source": [
    "### 3 - List\n",
    "Lists are mutable sequences, typically used to store collection of homogeneous items"
   ]
  },
  {
   "cell_type": "code",
   "execution_count": 5,
   "metadata": {},
   "outputs": [
    {
     "name": "stdout",
     "output_type": "stream",
     "text": [
      "<class 'list'>\n",
      "abc\n"
     ]
    }
   ],
   "source": [
    "lst=[1,2,3,4,5,'abc']\n",
    "print(type(lst))\n",
    "print(lst[5])"
   ]
  },
  {
   "cell_type": "code",
   "execution_count": 6,
   "metadata": {},
   "outputs": [
    {
     "name": "stdout",
     "output_type": "stream",
     "text": [
      "[1, 2, 3]\n"
     ]
    }
   ],
   "source": [
    "# Convert tuple into list\n",
    "tup=(1,2,3)\n",
    "lis=list(tup)\n",
    "print(lis)"
   ]
  },
  {
   "cell_type": "code",
   "execution_count": 7,
   "metadata": {},
   "outputs": [
    {
     "name": "stdout",
     "output_type": "stream",
     "text": [
      "['b', 'h', 'a', 'r', 'a', 't', 'h']\n"
     ]
    }
   ],
   "source": [
    "# Convert string into list\n",
    "string='bharath'\n",
    "lis=list(string)\n",
    "print(lis)"
   ]
  },
  {
   "cell_type": "code",
   "execution_count": 8,
   "metadata": {},
   "outputs": [
    {
     "name": "stdout",
     "output_type": "stream",
     "text": [
      "['Dog', 'Monkey']\n"
     ]
    }
   ],
   "source": [
    "# Deleting list element\n",
    "lis=['Dog','Cat','Monkey']\n",
    "del lis[1]\n",
    "print(lis)"
   ]
  },
  {
   "cell_type": "code",
   "execution_count": 9,
   "metadata": {},
   "outputs": [
    {
     "name": "stdout",
     "output_type": "stream",
     "text": [
      "['Cat', 'Monkey']\n"
     ]
    }
   ],
   "source": [
    "# Remove list item\n",
    "lis=['Dog','Cat','Monkey']\n",
    "lis.remove('Dog')\n",
    "print(lis)"
   ]
  },
  {
   "cell_type": "code",
   "execution_count": 10,
   "metadata": {},
   "outputs": [
    {
     "name": "stdout",
     "output_type": "stream",
     "text": [
      "['Dog', 'Bear', 'Cat', 'Monkey']\n"
     ]
    }
   ],
   "source": [
    "# inserting into list - list.insert(position, value)\n",
    "lis=['Dog','Cat','Monkey']\n",
    "lis.insert(1,'Bear')\n",
    "print(lis)"
   ]
  },
  {
   "cell_type": "code",
   "execution_count": 11,
   "metadata": {},
   "outputs": [
    {
     "name": "stdout",
     "output_type": "stream",
     "text": [
      "['Dog', 'Cat', 'Monkey', 'Bear']\n"
     ]
    }
   ],
   "source": [
    "# appending into list\n",
    "lis=['Dog','Cat','Monkey']\n",
    "lis.append('Bear')\n",
    "print(lis)"
   ]
  },
  {
   "cell_type": "code",
   "execution_count": 12,
   "metadata": {},
   "outputs": [
    {
     "name": "stdout",
     "output_type": "stream",
     "text": [
      "['Cat', 'Dog', 'Monkey']\n",
      "['Monkey', 'Dog', 'Cat']\n"
     ]
    }
   ],
   "source": [
    "# Sort list \n",
    "lis=['Dog','Cat','Monkey']\n",
    "\n",
    "# Ascending\n",
    "lis.sort()\n",
    "print(lis)\n",
    "\n",
    "# Descending\n",
    "lis.sort(reverse=True)\n",
    "print(lis)"
   ]
  },
  {
   "cell_type": "code",
   "execution_count": 13,
   "metadata": {},
   "outputs": [
    {
     "name": "stdout",
     "output_type": "stream",
     "text": [
      "['Monkey', 'Cat', 'Dog']\n",
      "['Monkey', 'Cat', 'Dog']\n"
     ]
    }
   ],
   "source": [
    "# Reverse a list\n",
    "lis=['Dog','Cat','Monkey']\n",
    "lis.reverse()\n",
    "print(lis)\n",
    "\n",
    "# or\n",
    "\n",
    "lis=['Dog','Cat','Monkey']\n",
    "print(lis[::-1])"
   ]
  },
  {
   "cell_type": "code",
   "execution_count": 14,
   "metadata": {},
   "outputs": [
    {
     "name": "stdout",
     "output_type": "stream",
     "text": [
      "3\n"
     ]
    }
   ],
   "source": [
    "# Length of list\n",
    "lis=['Dog','Cat','Monkey']\n",
    "print(len(lis))"
   ]
  },
  {
   "cell_type": "code",
   "execution_count": 15,
   "metadata": {},
   "outputs": [
    {
     "name": "stdout",
     "output_type": "stream",
     "text": [
      "1\n",
      "88\n",
      "202\n"
     ]
    }
   ],
   "source": [
    "lis=[1,2,3,4,77,88,10,12,5]\n",
    "\n",
    "# Minimum \n",
    "print(min(lis))\n",
    "\n",
    "# Maximum\n",
    "print(max(lis))\n",
    "\n",
    "# Sum\n",
    "print(sum(lis))"
   ]
  },
  {
   "cell_type": "code",
   "execution_count": 16,
   "metadata": {},
   "outputs": [
    {
     "name": "stdout",
     "output_type": "stream",
     "text": [
      "[1, 2, 3, 3, 4, 5]\n",
      "[1, 2, 3, 3, 4, 5]\n"
     ]
    }
   ],
   "source": [
    "# Concatenating 2 lists\n",
    "lis1=[1,2,3]\n",
    "lis2=[3,4,5]\n",
    "print(lis1+lis2)\n",
    "\n",
    "# or\n",
    "\n",
    "lis1.extend(lis2)        # lis1 will be modified here\n",
    "print(lis1)"
   ]
  },
  {
   "cell_type": "code",
   "execution_count": 17,
   "metadata": {},
   "outputs": [
    {
     "name": "stdout",
     "output_type": "stream",
     "text": [
      "0 a\n",
      "1 b\n",
      "2 c\n",
      "3 d\n"
     ]
    }
   ],
   "source": [
    "# Enumerate - value with index\n",
    "lis=['a','b','c','d']\n",
    "for i,value in enumerate(lis):\n",
    "    print(i,value)"
   ]
  },
  {
   "cell_type": "code",
   "execution_count": 18,
   "metadata": {},
   "outputs": [
    {
     "name": "stdout",
     "output_type": "stream",
     "text": [
      "<class 'zip'>\n",
      "[('Mark', 22), ('Tony', 34), ('Bruce', 23)]\n"
     ]
    }
   ],
   "source": [
    "# Zipping lists\n",
    "name=['Mark','Tony','Bruce']\n",
    "age=[22,34,23]\n",
    "zipped=zip(name,age)\n",
    "print(type(zipped))\n",
    "print(list(zipped))"
   ]
  },
  {
   "cell_type": "code",
   "execution_count": 19,
   "metadata": {},
   "outputs": [
    {
     "name": "stdout",
     "output_type": "stream",
     "text": [
      "1_2_3_4_5\n",
      "1_2_3_4_5\n"
     ]
    }
   ],
   "source": [
    "# Split string on space\n",
    "\n",
    "ip = \"1 2 3 4 5\"\n",
    "s=map(int,ip.strip().split(\" \"))\n",
    "s1=\"_\".join(map(str,s))\n",
    "print (s1)\n",
    "\n",
    "# Or\n",
    "\n",
    "print('_'.join(map(str,ip.strip().split(\" \"))))"
   ]
  },
  {
   "cell_type": "code",
   "execution_count": 35,
   "metadata": {},
   "outputs": [
    {
     "name": "stdout",
     "output_type": "stream",
     "text": [
      "10\n",
      "[1, 2, 3, 4, 5, 6, 7, 8, 9]\n"
     ]
    }
   ],
   "source": [
    "s=[1,2,3,4,5,6,7,8,9,10]\n",
    "\n",
    "# removes last element\n",
    "print(s.pop())\n",
    "print(s)"
   ]
  },
  {
   "cell_type": "code",
   "execution_count": 36,
   "metadata": {},
   "outputs": [
    {
     "name": "stdout",
     "output_type": "stream",
     "text": [
      "3\n",
      "[1, 2, 4, 5, 6, 7, 8, 9]\n"
     ]
    }
   ],
   "source": [
    "# removes element from specified position\n",
    "print(s.pop(2))\n",
    "print(s)"
   ]
  },
  {
   "cell_type": "code",
   "execution_count": 37,
   "metadata": {},
   "outputs": [
    {
     "data": {
      "text/plain": [
       "[1, 5, 6, 7, 8, 9]"
      ]
     },
     "execution_count": 37,
     "metadata": {},
     "output_type": "execute_result"
    }
   ],
   "source": [
    "# Removes element at position 1,2\n",
    "del s[1:3]\n",
    "s"
   ]
  },
  {
   "cell_type": "code",
   "execution_count": 38,
   "metadata": {},
   "outputs": [
    {
     "name": "stdout",
     "output_type": "stream",
     "text": [
      "[1, 5, 6, 7, 8, 9, 11, 12, 13, 14, 15, 16]\n"
     ]
    }
   ],
   "source": [
    "s.extend([11,12,13,14,15,16])\n",
    "print(s)"
   ]
  },
  {
   "cell_type": "code",
   "execution_count": null,
   "metadata": {},
   "outputs": [],
   "source": []
  },
  {
   "cell_type": "code",
   "execution_count": null,
   "metadata": {},
   "outputs": [],
   "source": []
  },
  {
   "cell_type": "markdown",
   "metadata": {},
   "source": [
    "#### List comprehension"
   ]
  },
  {
   "cell_type": "markdown",
   "metadata": {},
   "source": [
    "List comprehension offers a shorter syntax when you want to create a new list based on the values of an existing list."
   ]
  },
  {
   "cell_type": "code",
   "execution_count": 39,
   "metadata": {},
   "outputs": [
    {
     "name": "stdout",
     "output_type": "stream",
     "text": [
      "[6, 7, 8, 9, 10]\n"
     ]
    }
   ],
   "source": [
    "lis=[1,2,3,4,5]\n",
    "lis=[i+5 for i in lis]\n",
    "print(lis)"
   ]
  },
  {
   "cell_type": "code",
   "execution_count": 40,
   "metadata": {},
   "outputs": [
    {
     "name": "stdout",
     "output_type": "stream",
     "text": [
      "[6, 7]\n"
     ]
    }
   ],
   "source": [
    "a = [4,6,7,3,2]\n",
    "b = [x for x in a if x > 5]\n",
    "print(b)"
   ]
  },
  {
   "cell_type": "code",
   "execution_count": 41,
   "metadata": {},
   "outputs": [
    {
     "name": "stdout",
     "output_type": "stream",
     "text": [
      "[1, 3, 3, 5, 5, 7]\n"
     ]
    }
   ],
   "source": [
    "a = [1,2,3,4,5,6]\n",
    "b = [x+1 if x%2==0 else x for x in a]\n",
    "print(b)"
   ]
  },
  {
   "cell_type": "code",
   "execution_count": 42,
   "metadata": {},
   "outputs": [
    {
     "name": "stdout",
     "output_type": "stream",
     "text": [
      "['Ram k s', 'Roy', 'Stan']\n",
      "['Ram K S', 'Roy', 'Stan']\n"
     ]
    }
   ],
   "source": [
    "names=['ram k s','ROy','Stan']\n",
    "name_uppr1=[n.capitalize() for n in names]    # capitalize - makes first letter of each string capital and remaining small\n",
    "name_uppr2=[n.title() for n in names]         # title - makes first letter after space capital(initials) unlike capitalize\n",
    "print(name_uppr1)\n",
    "print(name_uppr2)"
   ]
  },
  {
   "cell_type": "markdown",
   "metadata": {},
   "source": [
    "### 4 - Tuple\n",
    "Tuples are immutable sequences, typically used to store collection of heterogeneous data"
   ]
  },
  {
   "cell_type": "code",
   "execution_count": 43,
   "metadata": {},
   "outputs": [
    {
     "name": "stdout",
     "output_type": "stream",
     "text": [
      "<class 'tuple'>\n"
     ]
    }
   ],
   "source": [
    "tup=(1,2,3)\n",
    "print(type(tup))"
   ]
  },
  {
   "cell_type": "code",
   "execution_count": 44,
   "metadata": {},
   "outputs": [
    {
     "data": {
      "text/plain": [
       "(1, 2, 3, 1, 2, 3, 1, 2, 3)"
      ]
     },
     "execution_count": 44,
     "metadata": {},
     "output_type": "execute_result"
    }
   ],
   "source": [
    "# duplicating tuples\n",
    "tup*3"
   ]
  },
  {
   "cell_type": "code",
   "execution_count": 45,
   "metadata": {},
   "outputs": [
    {
     "data": {
      "text/plain": [
       "(1, 2, 3, 4, 5, 6)"
      ]
     },
     "execution_count": 45,
     "metadata": {},
     "output_type": "execute_result"
    }
   ],
   "source": [
    "# concatenating tuples\n",
    "tup2=(4,5,6)\n",
    "tup+tup2"
   ]
  },
  {
   "cell_type": "code",
   "execution_count": 46,
   "metadata": {},
   "outputs": [
    {
     "name": "stdout",
     "output_type": "stream",
     "text": [
      "11\n",
      "22\n",
      "33\n"
     ]
    }
   ],
   "source": [
    "# unpacking tuples\n",
    "tup=(11,22,33)\n",
    "a,b,c=tup\n",
    "print(a,b,c,sep='\\n')"
   ]
  },
  {
   "cell_type": "code",
   "execution_count": 47,
   "metadata": {},
   "outputs": [
    {
     "data": {
      "text/plain": [
       "3"
      ]
     },
     "execution_count": 47,
     "metadata": {},
     "output_type": "execute_result"
    }
   ],
   "source": [
    "# to get count of an element in a tuple\n",
    "tup=(1,1,2,2,1,2,4,5,6,6,5,4,7,9)\n",
    "tup.count(1)"
   ]
  },
  {
   "cell_type": "markdown",
   "metadata": {},
   "source": [
    "### 5 - Set"
   ]
  },
  {
   "cell_type": "code",
   "execution_count": 48,
   "metadata": {},
   "outputs": [
    {
     "name": "stdout",
     "output_type": "stream",
     "text": [
      "<class 'set'>\n"
     ]
    }
   ],
   "source": [
    "st={1,2,3}\n",
    "print(type(st))"
   ]
  },
  {
   "cell_type": "code",
   "execution_count": 49,
   "metadata": {},
   "outputs": [
    {
     "name": "stdout",
     "output_type": "stream",
     "text": [
      "{1, 2, 3, 4}\n"
     ]
    }
   ],
   "source": [
    "# Set cannot have duplicates. Duplicates will be removed automatically. \n",
    "# If you want to remove duplicates from a list. Convert list->Set->list\n",
    "\n",
    "st={1,1,2,2,3,3,4}\n",
    "print(st)"
   ]
  },
  {
   "cell_type": "code",
   "execution_count": 50,
   "metadata": {},
   "outputs": [],
   "source": [
    "set1={1,2,3,4,5}\n",
    "set2={3,4,5,6,7,8}\n",
    "set3={1,2,3}"
   ]
  },
  {
   "cell_type": "code",
   "execution_count": 51,
   "metadata": {},
   "outputs": [
    {
     "data": {
      "text/plain": [
       "{1, 2, 3, 4, 5, 6, 7, 8}"
      ]
     },
     "execution_count": 51,
     "metadata": {},
     "output_type": "execute_result"
    }
   ],
   "source": [
    "# union\n",
    "set1.union(set2)"
   ]
  },
  {
   "cell_type": "code",
   "execution_count": 52,
   "metadata": {},
   "outputs": [
    {
     "data": {
      "text/plain": [
       "{1, 2}"
      ]
     },
     "execution_count": 52,
     "metadata": {},
     "output_type": "execute_result"
    }
   ],
   "source": [
    "# difference\n",
    "set1.difference(set2)"
   ]
  },
  {
   "cell_type": "code",
   "execution_count": 53,
   "metadata": {},
   "outputs": [
    {
     "data": {
      "text/plain": [
       "{3, 4, 5}"
      ]
     },
     "execution_count": 53,
     "metadata": {},
     "output_type": "execute_result"
    }
   ],
   "source": [
    "# intersection\n",
    "set1.intersection(set2)"
   ]
  },
  {
   "cell_type": "code",
   "execution_count": 54,
   "metadata": {},
   "outputs": [
    {
     "data": {
      "text/plain": [
       "True"
      ]
     },
     "execution_count": 54,
     "metadata": {},
     "output_type": "execute_result"
    }
   ],
   "source": [
    "# is subset?\n",
    "set3.issubset(set1)"
   ]
  },
  {
   "cell_type": "code",
   "execution_count": 55,
   "metadata": {},
   "outputs": [
    {
     "data": {
      "text/plain": [
       "True"
      ]
     },
     "execution_count": 55,
     "metadata": {},
     "output_type": "execute_result"
    }
   ],
   "source": [
    "# is superset?\n",
    "set1.issuperset(set3)"
   ]
  },
  {
   "cell_type": "markdown",
   "metadata": {},
   "source": [
    "### 6 - String"
   ]
  },
  {
   "cell_type": "code",
   "execution_count": 56,
   "metadata": {},
   "outputs": [
    {
     "name": "stdout",
     "output_type": "stream",
     "text": [
      "<class 'str'>\n"
     ]
    }
   ],
   "source": [
    "str1='bsp'\n",
    "# or\n",
    "str2=\"bsp\"\n",
    "print(type(str2))"
   ]
  },
  {
   "cell_type": "markdown",
   "metadata": {},
   "source": [
    "### 7 - Range"
   ]
  },
  {
   "cell_type": "code",
   "execution_count": 57,
   "metadata": {},
   "outputs": [
    {
     "name": "stdout",
     "output_type": "stream",
     "text": [
      "\n",
      "<class 'range'>\n",
      "[5, 7, 9]\n"
     ]
    }
   ],
   "source": [
    "print()\n",
    "print(type(range(10)))\n",
    "print(list(range(5,10,2)))\n",
    "# range ( start, stop, step )"
   ]
  },
  {
   "cell_type": "markdown",
   "metadata": {},
   "source": [
    "### 8 - Dictionary\n",
    "Dictionaries are unordered collection of data values, used to store data values in key value pairs"
   ]
  },
  {
   "cell_type": "code",
   "execution_count": 58,
   "metadata": {},
   "outputs": [
    {
     "name": "stdout",
     "output_type": "stream",
     "text": [
      "<class 'dict'>\n",
      "iqoo\n",
      "dict_keys(['me', 'mom', 'dad'])\n",
      "dict_values(['iqoo', 'poco', 'honor'])\n"
     ]
    }
   ],
   "source": [
    "dict={'me':'iqoo','mom':'poco','dad':'honor'}\n",
    "print(type(dict))\n",
    "print(dict['me'])\n",
    "print(dict.keys())\n",
    "print(dict.values())"
   ]
  },
  {
   "cell_type": "code",
   "execution_count": 59,
   "metadata": {},
   "outputs": [
    {
     "name": "stdout",
     "output_type": "stream",
     "text": [
      "{'me': 'iqoo', 'mom': 'poco', 'dad': 'honor', 'mgr': 'iphone'}\n"
     ]
    }
   ],
   "source": [
    "# adding into dictionary\n",
    "dict['mgr']='iphone'\n",
    "print(dict)"
   ]
  },
  {
   "cell_type": "code",
   "execution_count": 60,
   "metadata": {},
   "outputs": [
    {
     "name": "stdout",
     "output_type": "stream",
     "text": [
      "{'me': 'iqoo', 'mom': 'poco', 'dad': 'honor'}\n"
     ]
    }
   ],
   "source": [
    "# deleting from dictionary\n",
    "del dict['mgr']\n",
    "print(dict)"
   ]
  },
  {
   "cell_type": "code",
   "execution_count": 61,
   "metadata": {},
   "outputs": [
    {
     "name": "stdout",
     "output_type": "stream",
     "text": [
      "{'Mark': 22, 'Tony': 34, 'Bruce': 23}\n"
     ]
    }
   ],
   "source": [
    "# Converting 2 lists into dictionary\n",
    "name=['Mark','Tony','Bruce']\n",
    "age=[22,34,23]\n",
    "dic={}\n",
    "\n",
    "for key,value in zip(name,age):\n",
    "    dic[key]=value\n",
    "print(dic)"
   ]
  },
  {
   "cell_type": "markdown",
   "metadata": {},
   "source": [
    "## Type casting"
   ]
  },
  {
   "cell_type": "code",
   "execution_count": 62,
   "metadata": {},
   "outputs": [
    {
     "name": "stdout",
     "output_type": "stream",
     "text": [
      "<class 'int'>\n",
      "<class 'str'>\n",
      "\n",
      "1\n",
      "0\n",
      "\n",
      "5.65\n",
      "5\n"
     ]
    }
   ],
   "source": [
    "a=5\n",
    "print(type(a))\n",
    "b=str(a)\n",
    "print(type(b))\n",
    "\n",
    "print()\n",
    "print(int(True))\n",
    "print(int(False))\n",
    "\n",
    "# Explicit type casting causing data loss\n",
    "a=5.65\n",
    "b=int(a)\n",
    "print()\n",
    "print(a)\n",
    "print(b)"
   ]
  },
  {
   "cell_type": "markdown",
   "metadata": {},
   "source": [
    "## If Elif Else"
   ]
  },
  {
   "cell_type": "code",
   "execution_count": 65,
   "metadata": {},
   "outputs": [
    {
     "name": "stdout",
     "output_type": "stream",
     "text": [
      "6 is a positive number\n"
     ]
    }
   ],
   "source": [
    "x=6\n",
    "\n",
    "if(x>0):\n",
    "    print(str(x)+\" is a positive number\")\n",
    "elif(x==0):\n",
    "    print(str(x)+\" is neither positive or negative\")\n",
    "else:\n",
    "    print(str(x)+\" is a negative number\")"
   ]
  },
  {
   "cell_type": "markdown",
   "metadata": {},
   "source": [
    "## In Operator"
   ]
  },
  {
   "cell_type": "code",
   "execution_count": 66,
   "metadata": {},
   "outputs": [
    {
     "name": "stdout",
     "output_type": "stream",
     "text": [
      "Doesn't exist\n"
     ]
    }
   ],
   "source": [
    "animal_list=['dog','cat','goat','sheep']\n",
    "animal='Dog'   # Case sensitive\n",
    "if animal in animal_list:\n",
    "    print('Exist')\n",
    "else:\n",
    "    print('Doesn\\'t exist')  # \\ is escape sequence"
   ]
  },
  {
   "cell_type": "markdown",
   "metadata": {},
   "source": [
    "## For Loop"
   ]
  },
  {
   "cell_type": "code",
   "execution_count": 67,
   "metadata": {},
   "outputs": [
    {
     "name": "stdout",
     "output_type": "stream",
     "text": [
      "2\n",
      "5\n",
      "8\n",
      "11\n",
      "14\n",
      "17\n"
     ]
    }
   ],
   "source": [
    "for x in range(2,20,3):\n",
    "    print(x)"
   ]
  },
  {
   "cell_type": "code",
   "execution_count": 68,
   "metadata": {},
   "outputs": [
    {
     "name": "stdout",
     "output_type": "stream",
     "text": [
      "20\n",
      "17\n",
      "14\n",
      "11\n",
      "8\n",
      "5\n"
     ]
    }
   ],
   "source": [
    "for x in range(20,2,-3):\n",
    "    print(x)"
   ]
  },
  {
   "cell_type": "markdown",
   "metadata": {},
   "source": [
    "## While loop"
   ]
  },
  {
   "cell_type": "code",
   "execution_count": 69,
   "metadata": {},
   "outputs": [
    {
     "name": "stdout",
     "output_type": "stream",
     "text": [
      "0\n",
      "1\n",
      "2\n",
      "3\n",
      "4\n"
     ]
    }
   ],
   "source": [
    "i=0\n",
    "while(i<5):\n",
    "    print(i)\n",
    "    i+=1"
   ]
  },
  {
   "cell_type": "markdown",
   "metadata": {},
   "source": [
    "## Functions\n",
    "Function is a block of code that runs only when it is called. Data can be passed into a function known as parameters"
   ]
  },
  {
   "cell_type": "code",
   "execution_count": 70,
   "metadata": {},
   "outputs": [
    {
     "name": "stdout",
     "output_type": "stream",
     "text": [
      "7\n",
      "-1\n"
     ]
    }
   ],
   "source": [
    "# function to add 2 numbers\n",
    "def add(a,b):\n",
    "    print(a+b)\n",
    "\n",
    "# function to subtract 2 numbersb\n",
    "def sub(a,b):\n",
    "    print(a-b)\n",
    "\n",
    "# calling function\n",
    "add(3,4)\n",
    "sub(3,4)"
   ]
  },
  {
   "cell_type": "code",
   "execution_count": 71,
   "metadata": {},
   "outputs": [
    {
     "name": "stdout",
     "output_type": "stream",
     "text": [
      "Hello Ron\n",
      "Hello Bharath\n"
     ]
    }
   ],
   "source": [
    "# Default values for function ( If no parameter is provided then default value is considered )\n",
    "def name(Fname='Bharath'):\n",
    "    print('Hello '+Fname)\n",
    "    \n",
    "name('Ron')\n",
    "name()"
   ]
  },
  {
   "cell_type": "code",
   "execution_count": 72,
   "metadata": {},
   "outputs": [
    {
     "name": "stdout",
     "output_type": "stream",
     "text": [
      "1024\n"
     ]
    }
   ],
   "source": [
    "# function with return\n",
    "def square(base,power):\n",
    "    return(base**power)\n",
    "\n",
    "print(square(2,10))"
   ]
  },
  {
   "cell_type": "markdown",
   "metadata": {},
   "source": [
    "### args / kwargs"
   ]
  },
  {
   "cell_type": "raw",
   "metadata": {},
   "source": [
    "Special function parameters - *args, **kwargs\n",
    "\n",
    "* args - The special syntax *args in function definitions in python is used to pass a variable number of arguments to a function. \n",
    "        It is used to pass a non-key worded, variable-length argument list. \n",
    "        \n",
    "** kwargs - The special syntax **kwargs in function definitions in python is used to pass a keyworded, variable-length argument   \n",
    "        list. "
   ]
  },
  {
   "cell_type": "code",
   "execution_count": 73,
   "metadata": {},
   "outputs": [
    {
     "name": "stdout",
     "output_type": "stream",
     "text": [
      "Hello\n",
      "Welcome\n",
      "to\n",
      "GeeksforGeeks\n"
     ]
    }
   ],
   "source": [
    "# *args\n",
    "\n",
    "def myFun(*argvar): \n",
    "    for arg in argvar: \n",
    "        print (arg)\n",
    "    \n",
    "myFun('Hello', 'Welcome', 'to', 'GeeksforGeeks') "
   ]
  },
  {
   "cell_type": "code",
   "execution_count": 74,
   "metadata": {},
   "outputs": [
    {
     "name": "stdout",
     "output_type": "stream",
     "text": [
      "131\n"
     ]
    }
   ],
   "source": [
    "# sum of n inputs using *args\n",
    "def myFun(*argvar): \n",
    "    total=0\n",
    "    for val in argvar: \n",
    "        total+=val\n",
    "    print (total)\n",
    "    \n",
    "myFun(12,30,22,33,11,23) "
   ]
  },
  {
   "cell_type": "code",
   "execution_count": 76,
   "metadata": {},
   "outputs": [
    {
     "name": "stdout",
     "output_type": "stream",
     "text": [
      "first == Geeks\n",
      "mid == for\n",
      "last == Geeks\n"
     ]
    }
   ],
   "source": [
    "# **kwargs\n",
    "\n",
    "def myFun(**kwargs): \n",
    "    for key, value in kwargs.items():\n",
    "        print (\"%s == %s\" %(key, value))\n",
    "\n",
    "myFun(first ='Geeks', mid ='for', last='Geeks')"
   ]
  },
  {
   "cell_type": "code",
   "execution_count": 77,
   "metadata": {},
   "outputs": [
    {
     "name": "stdout",
     "output_type": "stream",
     "text": [
      "9\n"
     ]
    }
   ],
   "source": [
    "# using global keyword to access a local variable outside a function\n",
    "\n",
    "def add(a,b):\n",
    "    global sum1\n",
    "    sum1=a+b\n",
    "    \n",
    "add(4,5)\n",
    "print(sum1)"
   ]
  },
  {
   "cell_type": "code",
   "execution_count": 78,
   "metadata": {},
   "outputs": [
    {
     "name": "stdout",
     "output_type": "stream",
     "text": [
      "(7, 10, 2.5)\n",
      "7\n",
      "10\n",
      "2.5\n"
     ]
    }
   ],
   "source": [
    "# returning multiple values from a function\n",
    "def calc(a,b):\n",
    "    summ = a+b\n",
    "    mul = a*b\n",
    "    div = a/b\n",
    "    return summ,mul,div\n",
    "\n",
    "print(calc(5,2))\n",
    "\n",
    "# unpacking\n",
    "s,m,d=calc(5,2)\n",
    "print(s,m,d,sep='\\n')"
   ]
  },
  {
   "cell_type": "markdown",
   "metadata": {},
   "source": [
    "## Lambda Functions\n",
    "They are single line functions declared without a name. It can have any number of input parameters but it can have only one expression\n",
    "\n",
    "Syntax:<br>\n",
    "function = lambda (input):(output)"
   ]
  },
  {
   "cell_type": "code",
   "execution_count": 79,
   "metadata": {},
   "outputs": [
    {
     "data": {
      "text/plain": [
       "25"
      ]
     },
     "execution_count": 79,
     "metadata": {},
     "output_type": "execute_result"
    }
   ],
   "source": [
    "sq = lambda x:x**2\n",
    "sq(5)"
   ]
  },
  {
   "cell_type": "code",
   "execution_count": 80,
   "metadata": {},
   "outputs": [
    {
     "data": {
      "text/plain": [
       "10"
      ]
     },
     "execution_count": 80,
     "metadata": {},
     "output_type": "execute_result"
    }
   ],
   "source": [
    "# multiple input\n",
    "\n",
    "summ = lambda x,y:x+y\n",
    "summ(2,8)"
   ]
  },
  {
   "cell_type": "code",
   "execution_count": 81,
   "metadata": {},
   "outputs": [
    {
     "name": "stdout",
     "output_type": "stream",
     "text": [
      "[12, 15, 9, 2, 4]\n"
     ]
    }
   ],
   "source": [
    "# Using lambda function as input to another function\n",
    "# Filter ages below 18\n",
    "# Filter syntax : filter(condition, input)\n",
    "age=[12,98,34,54,18,39,15,9,2,4]\n",
    "age_18=list(filter(lambda x:x<18,age))\n",
    "print (age_18)"
   ]
  },
  {
   "cell_type": "markdown",
   "metadata": {},
   "source": [
    "# OOPs Concepts"
   ]
  },
  {
   "cell_type": "code",
   "execution_count": 82,
   "metadata": {},
   "outputs": [
    {
     "name": "stdout",
     "output_type": "stream",
     "text": [
      "Hello Bharath S P your age is 23\n"
     ]
    }
   ],
   "source": [
    "# Class\n",
    "\n",
    "class Person():\n",
    "    \n",
    "    def inp(self,Fname,Lname,Age):\n",
    "        self.Fname=Fname\n",
    "        self.Lname=Lname\n",
    "        self.Age=Age\n",
    "        \n",
    "    def out(self):\n",
    "        print('Hello '+self.Fname+' '+self.Lname+' your age is '+str(self.Age))\n",
    "\n",
    "# creating class object\n",
    "obj=Person()\n",
    "obj.inp('Bharath','S P',23)\n",
    "obj.out()"
   ]
  },
  {
   "cell_type": "code",
   "execution_count": 83,
   "metadata": {},
   "outputs": [
    {
     "name": "stdout",
     "output_type": "stream",
     "text": [
      "Object created. Constructor invoked automatically\n",
      "Object created. Constructor invoked automatically\n"
     ]
    }
   ],
   "source": [
    "# constructor\n",
    "\n",
    "class test():\n",
    "    def __init__(self):\n",
    "        print('Object created. Constructor invoked automatically')\n",
    "        \n",
    "obj1=test()\n",
    "obj2=test()"
   ]
  },
  {
   "cell_type": "code",
   "execution_count": 84,
   "metadata": {},
   "outputs": [
    {
     "name": "stdout",
     "output_type": "stream",
     "text": [
      "Hello B S P your age is 3\n"
     ]
    }
   ],
   "source": [
    "# inheritance\n",
    "\n",
    "class Person():\n",
    "    \n",
    "    def __init__(self,Fname,Lname,Age):\n",
    "        self.Fname=Fname\n",
    "        self.Lname=Lname\n",
    "        self.Age=Age\n",
    "        \n",
    "    def out(self):\n",
    "        print('Hello '+self.Fname+' '+self.Lname+' your age is '+str(self.Age))\n",
    "\n",
    "class Child(Person):\n",
    "    pass\n",
    "\n",
    "obj=Child('B','S P',3)\n",
    "obj.out()"
   ]
  },
  {
   "cell_type": "markdown",
   "metadata": {},
   "source": [
    "# Decorators"
   ]
  },
  {
   "cell_type": "markdown",
   "metadata": {},
   "source": [
    "Decorators are a very powerful and useful tool in Python since it allows programmers to modify the behaviour of a function or class.<br> Decorators allow us to wrap another function in order to extend the behaviour of the wrapped function, without permanently modifying it. "
   ]
  },
  {
   "cell_type": "code",
   "execution_count": 87,
   "metadata": {},
   "outputs": [
    {
     "name": "stdout",
     "output_type": "stream",
     "text": [
      "3.0\n"
     ]
    }
   ],
   "source": [
    "def divide(a,b):\n",
    "    return(a/b)\n",
    "\n",
    "print(divide(6,2))"
   ]
  },
  {
   "cell_type": "markdown",
   "metadata": {},
   "source": [
    "But what if divisor is 0"
   ]
  },
  {
   "cell_type": "code",
   "execution_count": 88,
   "metadata": {},
   "outputs": [
    {
     "ename": "ZeroDivisionError",
     "evalue": "division by zero",
     "output_type": "error",
     "traceback": [
      "\u001b[1;31m---------------------------------------------------------------------------\u001b[0m",
      "\u001b[1;31mZeroDivisionError\u001b[0m                         Traceback (most recent call last)",
      "Cell \u001b[1;32mIn[88], line 1\u001b[0m\n\u001b[1;32m----> 1\u001b[0m \u001b[38;5;28mprint\u001b[39m(\u001b[43mdivide\u001b[49m\u001b[43m(\u001b[49m\u001b[38;5;241;43m6\u001b[39;49m\u001b[43m,\u001b[49m\u001b[38;5;241;43m0\u001b[39;49m\u001b[43m)\u001b[49m)\n",
      "Cell \u001b[1;32mIn[87], line 2\u001b[0m, in \u001b[0;36mdivide\u001b[1;34m(a, b)\u001b[0m\n\u001b[0;32m      1\u001b[0m \u001b[38;5;28;01mdef\u001b[39;00m \u001b[38;5;21mdivide\u001b[39m(a,b):\n\u001b[1;32m----> 2\u001b[0m     \u001b[38;5;28;01mreturn\u001b[39;00m(\u001b[43ma\u001b[49m\u001b[38;5;241;43m/\u001b[39;49m\u001b[43mb\u001b[49m)\n",
      "\u001b[1;31mZeroDivisionError\u001b[0m: division by zero"
     ]
    }
   ],
   "source": [
    "print(divide(6,0))"
   ]
  },
  {
   "cell_type": "markdown",
   "metadata": {},
   "source": [
    "We can make use of decorators in the function to avoid the exception"
   ]
  },
  {
   "cell_type": "code",
   "execution_count": 89,
   "metadata": {},
   "outputs": [
    {
     "name": "stdout",
     "output_type": "stream",
     "text": [
      "Provide proper input\n"
     ]
    }
   ],
   "source": [
    "def smart_div(func):\n",
    "    def inner(x,y):\n",
    "        if y==0:\n",
    "            print(\"Provide proper input\")\n",
    "        else:\n",
    "            return func(x,y)\n",
    "    return inner\n",
    "\n",
    "@smart_div\n",
    "def division(a,b):\n",
    "    return a/b\n",
    "\n",
    "division(6,0)"
   ]
  },
  {
   "cell_type": "code",
   "execution_count": 90,
   "metadata": {},
   "outputs": [
    {
     "name": "stdout",
     "output_type": "stream",
     "text": [
      "400\n"
     ]
    }
   ],
   "source": [
    "# code for testing decorator chaining\n",
    "def decor1(func):\n",
    "    def inner():\n",
    "        x = func()\n",
    "        return x * x\n",
    "    return inner\n",
    " \n",
    "def decor(func):\n",
    "    def inner():\n",
    "        x = func()\n",
    "        return 2 * x\n",
    "    return inner\n",
    " \n",
    "@decor1\n",
    "@decor\n",
    "def num():\n",
    "    return 10\n",
    " \n",
    "print(num())"
   ]
  },
  {
   "cell_type": "markdown",
   "metadata": {},
   "source": [
    "num > decor > decor1<br>\n",
    "10 > 2\\*10=20 > 20*20=400<br><br>\n",
    "The above example is similar to calling the function as –<br>\n",
    "decor1(decor(num))"
   ]
  },
  {
   "cell_type": "code",
   "execution_count": 31,
   "metadata": {},
   "outputs": [
    {
     "name": "stdout",
     "output_type": "stream",
     "text": [
      "x is 1\n"
     ]
    }
   ],
   "source": [
    "# If-Else operator\n",
    "\n",
    "x=1\n",
    "if (x==1):\n",
    "\tprint(\"x is 1\")\n",
    "elif (x==0):\n",
    "\tprint(\"x is 0\")\n",
    "else:\n",
    "\tprint(\"none\")"
   ]
  },
  {
   "cell_type": "code",
   "execution_count": null,
   "metadata": {},
   "outputs": [],
   "source": [
    "# Is operator\n",
    "\n",
    "x = [1,2,3]\n",
    "y = [1,2,3]\n",
    "print(x == y) # Prints out True\n",
    "print(x is y) # Prints out False\n",
    "\n",
    "# Unlike the double equals operator \"==\", the \"is\" operator does not match the values of the variables, but the instances themselves. \n",
    "x=y\n",
    "print(x is y) # Prints out True"
   ]
  },
  {
   "cell_type": "code",
   "execution_count": null,
   "metadata": {},
   "outputs": [],
   "source": [
    "# Power operator\n",
    "print(5**2)"
   ]
  },
  {
   "cell_type": "markdown",
   "metadata": {},
   "source": [
    "# String formatting"
   ]
  },
  {
   "cell_type": "code",
   "execution_count": 92,
   "metadata": {},
   "outputs": [
    {
     "name": "stdout",
     "output_type": "stream",
     "text": [
      "12\n"
     ]
    }
   ],
   "source": [
    "astring=\"Hello world!\"\n",
    "delimiter = '_*_'\n",
    "mylist = ['brazil','russia','india','china']\n",
    "\n",
    "print(len(astring))"
   ]
  },
  {
   "cell_type": "code",
   "execution_count": 93,
   "metadata": {},
   "outputs": [
    {
     "name": "stdout",
     "output_type": "stream",
     "text": [
      "4\n"
     ]
    }
   ],
   "source": [
    "print(astring.index(\"o\"))"
   ]
  },
  {
   "cell_type": "code",
   "execution_count": 94,
   "metadata": {},
   "outputs": [
    {
     "name": "stdout",
     "output_type": "stream",
     "text": [
      "3\n"
     ]
    }
   ],
   "source": [
    "print(astring.count('l'))"
   ]
  },
  {
   "cell_type": "code",
   "execution_count": 95,
   "metadata": {},
   "outputs": [
    {
     "name": "stdout",
     "output_type": "stream",
     "text": [
      "lo w\n"
     ]
    }
   ],
   "source": [
    "print(astring[3:7])"
   ]
  },
  {
   "cell_type": "code",
   "execution_count": 96,
   "metadata": {},
   "outputs": [
    {
     "name": "stdout",
     "output_type": "stream",
     "text": [
      "l \n"
     ]
    }
   ],
   "source": [
    "# You can even put negative numbers inside the brackets. They are an easy way of starting at the end of the string instead of the \n",
    "# beginning. \n",
    "# This way, -3 means \"3rd character from the end\".\n",
    "\n",
    "print(astring[3:7:2])\t#[start,stop,step]"
   ]
  },
  {
   "cell_type": "code",
   "execution_count": 24,
   "metadata": {},
   "outputs": [
    {
     "name": "stdout",
     "output_type": "stream",
     "text": [
      "H\n"
     ]
    }
   ],
   "source": [
    "#  H  e    l  l  o     w  o  r  l  d  !\n",
    "#  0  1    2  3  4  5  6  7  8  9  10 11\n",
    "#-12 -11 -10 -9 -8 -7 -6 -5 -4 -3 -2 -1\n",
    "print(astring[-12])"
   ]
  },
  {
   "cell_type": "code",
   "execution_count": 25,
   "metadata": {},
   "outputs": [
    {
     "name": "stdout",
     "output_type": "stream",
     "text": [
      "!dlrow olleH\n"
     ]
    }
   ],
   "source": [
    "#reversing a string\n",
    "\n",
    "print(astring[::-1])"
   ]
  },
  {
   "cell_type": "code",
   "execution_count": 26,
   "metadata": {},
   "outputs": [
    {
     "name": "stdout",
     "output_type": "stream",
     "text": [
      "HELLO WORLD!\n",
      "hello world!\n"
     ]
    }
   ],
   "source": [
    "print(astring.upper())\n",
    "print(astring.lower())"
   ]
  },
  {
   "cell_type": "code",
   "execution_count": 27,
   "metadata": {},
   "outputs": [
    {
     "name": "stdout",
     "output_type": "stream",
     "text": [
      "True\n"
     ]
    }
   ],
   "source": [
    "#This is used to determine whether the string starts with something or ends with something respectively\n",
    "print(astring.startswith(\"Hello\")) "
   ]
  },
  {
   "cell_type": "code",
   "execution_count": 28,
   "metadata": {},
   "outputs": [
    {
     "name": "stdout",
     "output_type": "stream",
     "text": [
      "False\n"
     ]
    }
   ],
   "source": [
    "print(astring.endswith(\"asdfasdfasdf\"))"
   ]
  },
  {
   "cell_type": "code",
   "execution_count": 29,
   "metadata": {},
   "outputs": [
    {
     "name": "stdout",
     "output_type": "stream",
     "text": [
      "Yes it contains wor at position:  6\n"
     ]
    }
   ],
   "source": [
    "if astring.find('wor') != -1:\n",
    "\tprint('Yes it contains wor at position: ',astring.find('wor'))"
   ]
  },
  {
   "cell_type": "code",
   "execution_count": 30,
   "metadata": {},
   "outputs": [
    {
     "name": "stdout",
     "output_type": "stream",
     "text": [
      "brazil_*_russia_*_india_*_china\n"
     ]
    }
   ],
   "source": [
    "print(delimiter.join(mylist))"
   ]
  },
  {
   "cell_type": "markdown",
   "metadata": {},
   "source": [
    "# Codes"
   ]
  },
  {
   "cell_type": "markdown",
   "metadata": {},
   "source": [
    "## Armstrong number"
   ]
  },
  {
   "cell_type": "code",
   "execution_count": 18,
   "metadata": {},
   "outputs": [
    {
     "name": "stdout",
     "output_type": "stream",
     "text": [
      "1634 is an Armstrong number\n"
     ]
    }
   ],
   "source": [
    "# Code to find if a number is \n",
    "\n",
    "# An Armstrong number is a number that is equal to the sum of its own digits each raised to the power of the number of digits.\n",
    "\n",
    "# 153: 1^3 + 5^3 + 3^3 = 153\n",
    "# 1634: 1^4 + 6^4 + 3^4 + 4^4 = 1634\n",
    "# 54748: 5^5 + 4^5 + 7^5 + 4^5 + 8^5 = 54748\n",
    "# 548834: 5^6 + 4^6 + 8^6 + 8^6 + 3^6 + 4^6 = 548834\n",
    "\n",
    "def is_armstrong_number(number):\n",
    "    # Convert the number to a string to find its length\n",
    "    num_str = str(number)\n",
    "    \n",
    "    # Calculate the power (order) based on the number of digits\n",
    "    order = len(num_str)\n",
    "    \n",
    "    # Initialize a variable to store the sum of the powered digits\n",
    "    sum_of_powers = 0\n",
    "    \n",
    "    # Calculate the sum of each digit raised to the power of the order\n",
    "    for digit_char in num_str:\n",
    "        digit = int(digit_char)\n",
    "        sum_of_powers += digit ** order\n",
    "    \n",
    "    # Check if the sum of powers is equal to the original number\n",
    "    return sum_of_powers == number\n",
    "\n",
    "# Example usage:\n",
    "num = 1634  # Change this number to check other values\n",
    "if is_armstrong_number(num):\n",
    "    print(f\"{num} is an Armstrong number\")\n",
    "else:\n",
    "    print(f\"{num} is not an Armstrong number\")\n"
   ]
  },
  {
   "cell_type": "markdown",
   "metadata": {},
   "source": [
    "## Capitalize / Title"
   ]
  },
  {
   "cell_type": "code",
   "execution_count": 12,
   "metadata": {},
   "outputs": [
    {
     "name": "stdout",
     "output_type": "stream",
     "text": [
      "Bharath S P\n",
      "Bharath S P\n"
     ]
    }
   ],
   "source": [
    "# input:  bharath s p\n",
    "# output: Bharath S P\n",
    "\n",
    "s='bharath s p'\n",
    "print(' '.join([x.capitalize() for x in s.split(' ')]))\n",
    "\n",
    "# Or\n",
    "\n",
    "print(s.title())"
   ]
  },
  {
   "cell_type": "markdown",
   "metadata": {},
   "source": [
    "## Factorial"
   ]
  },
  {
   "cell_type": "code",
   "execution_count": 15,
   "metadata": {},
   "outputs": [
    {
     "name": "stdout",
     "output_type": "stream",
     "text": [
      "120\n",
      "120\n"
     ]
    }
   ],
   "source": [
    "# Normal function for factorial\n",
    "def factorial(num):\n",
    "    answer=num\n",
    "    while(num>1):\n",
    "        answer*=(num-1)\n",
    "        num=num-1\n",
    "    return (answer)\n",
    "\n",
    "# Recursive function for factorial\n",
    "def recur_factorial(n):\n",
    "    if n == 1:\n",
    "        return n\n",
    "    else:\n",
    "        return n*recur_factorial(n-1)\n",
    "\n",
    "num = 5\n",
    "\n",
    "ans = factorial(num)\n",
    "rec_ans = recur_factorial(num)\n",
    "\n",
    "print(ans)\n",
    "print(rec_ans)"
   ]
  },
  {
   "cell_type": "code",
   "execution_count": null,
   "metadata": {},
   "outputs": [],
   "source": []
  }
 ],
 "metadata": {
  "kernelspec": {
   "display_name": "Python 3 (ipykernel)",
   "language": "python",
   "name": "python3"
  },
  "language_info": {
   "codemirror_mode": {
    "name": "ipython",
    "version": 3
   },
   "file_extension": ".py",
   "mimetype": "text/x-python",
   "name": "python",
   "nbconvert_exporter": "python",
   "pygments_lexer": "ipython3",
   "version": "3.10.9"
  }
 },
 "nbformat": 4,
 "nbformat_minor": 4
}
