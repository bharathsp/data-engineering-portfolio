{
 "cells": [
  {
   "cell_type": "code",
   "execution_count": 1,
   "id": "5e775834-a24e-46b3-911e-6fa68de7eeba",
   "metadata": {},
   "outputs": [],
   "source": [
    "import pyspark"
   ]
  },
  {
   "cell_type": "code",
   "execution_count": 2,
   "id": "25665339-4636-4b30-8c4f-6a027cbb243c",
   "metadata": {},
   "outputs": [],
   "source": [
    "from pyspark.sql import SparkSession"
   ]
  },
  {
   "cell_type": "code",
   "execution_count": 3,
   "id": "f18c4a4d-0da2-43b3-a3d6-e9700603d5bb",
   "metadata": {},
   "outputs": [],
   "source": [
    "# Creating SparkSession with name 'abc'\n",
    "spark = SparkSession.builder.appName('abc').getOrCreate()"
   ]
  },
  {
   "cell_type": "code",
   "execution_count": 4,
   "id": "16cd391d-02c8-435a-bc59-f1084ca214b1",
   "metadata": {},
   "outputs": [
    {
     "data": {
      "text/html": [
       "\n",
       "            <div>\n",
       "                <p><b>SparkSession - in-memory</b></p>\n",
       "                \n",
       "        <div>\n",
       "            <p><b>SparkContext</b></p>\n",
       "\n",
       "            <p><a href=\"http://DESKTOP-BSP:4040\">Spark UI</a></p>\n",
       "\n",
       "            <dl>\n",
       "              <dt>Version</dt>\n",
       "                <dd><code>v3.2.1</code></dd>\n",
       "              <dt>Master</dt>\n",
       "                <dd><code>local[*]</code></dd>\n",
       "              <dt>AppName</dt>\n",
       "                <dd><code>abc</code></dd>\n",
       "            </dl>\n",
       "        </div>\n",
       "        \n",
       "            </div>\n",
       "        "
      ],
      "text/plain": [
       "<pyspark.sql.session.SparkSession at 0x192ec19e210>"
      ]
     },
     "execution_count": 4,
     "metadata": {},
     "output_type": "execute_result"
    }
   ],
   "source": [
    "spark"
   ]
  },
  {
   "cell_type": "code",
   "execution_count": 5,
   "id": "4a5c7369-1648-4c64-ac5a-fb23842ba005",
   "metadata": {},
   "outputs": [],
   "source": [
    "# Spark code to create dataframe with column name as number containing numbers ranging from 0 to 999 \n",
    "myRange = spark.range(1000).toDF(\"number\")"
   ]
  },
  {
   "cell_type": "code",
   "execution_count": 6,
   "id": "95b7ead4-2eb8-4670-b573-2ae4f613802f",
   "metadata": {},
   "outputs": [
    {
     "data": {
      "text/plain": [
       "DataFrame[number: bigint]"
      ]
     },
     "execution_count": 6,
     "metadata": {},
     "output_type": "execute_result"
    }
   ],
   "source": [
    "myRange"
   ]
  },
  {
   "cell_type": "code",
   "execution_count": 7,
   "id": "bb95c93a-c24d-453e-99c2-8656fb39c16e",
   "metadata": {},
   "outputs": [
    {
     "name": "stdout",
     "output_type": "stream",
     "text": [
      "+------+\n",
      "|number|\n",
      "+------+\n",
      "|     0|\n",
      "|     1|\n",
      "|     2|\n",
      "|     3|\n",
      "|     4|\n",
      "|     5|\n",
      "|     6|\n",
      "|     7|\n",
      "|     8|\n",
      "|     9|\n",
      "|    10|\n",
      "|    11|\n",
      "|    12|\n",
      "|    13|\n",
      "|    14|\n",
      "|    15|\n",
      "|    16|\n",
      "|    17|\n",
      "|    18|\n",
      "|    19|\n",
      "+------+\n",
      "only showing top 20 rows\n",
      "\n"
     ]
    }
   ],
   "source": [
    "myRange.show()"
   ]
  },
  {
   "cell_type": "markdown",
   "id": "83219e22-c255-43a4-adaf-0c010287bb59",
   "metadata": {},
   "source": [
    "### Reading CSV"
   ]
  },
  {
   "cell_type": "code",
   "execution_count": 8,
   "id": "65c56a22-c61a-4b7b-b266-11675a5758e1",
   "metadata": {},
   "outputs": [
    {
     "name": "stdout",
     "output_type": "stream",
     "text": [
      "+----------+----+------+------+---+------+----+\n",
      "|total_bill| tip|   sex|smoker|day|  time|size|\n",
      "+----------+----+------+------+---+------+----+\n",
      "|     16.99|1.01|Female|    No|Sun|Dinner|   2|\n",
      "|     10.34|1.66|  Male|    No|Sun|Dinner|   3|\n",
      "|     21.01| 3.5|  Male|    No|Sun|Dinner|   3|\n",
      "|     23.68|3.31|  Male|    No|Sun|Dinner|   2|\n",
      "|     24.59|3.61|Female|    No|Sun|Dinner|   4|\n",
      "|     25.29|4.71|  Male|    No|Sun|Dinner|   4|\n",
      "|      8.77| 2.0|  Male|    No|Sun|Dinner|   2|\n",
      "|     26.88|3.12|  Male|    No|Sun|Dinner|   4|\n",
      "|     15.04|1.96|  Male|    No|Sun|Dinner|   2|\n",
      "|     14.78|3.23|  Male|    No|Sun|Dinner|   2|\n",
      "|     10.27|1.71|  Male|    No|Sun|Dinner|   2|\n",
      "|     35.26| 5.0|Female|    No|Sun|Dinner|   4|\n",
      "|     15.42|1.57|  Male|    No|Sun|Dinner|   2|\n",
      "|     18.43| 3.0|  Male|    No|Sun|Dinner|   4|\n",
      "|     14.83|3.02|Female|    No|Sun|Dinner|   2|\n",
      "|     21.58|3.92|  Male|    No|Sun|Dinner|   2|\n",
      "|     10.33|1.67|Female|    No|Sun|Dinner|   3|\n",
      "|     16.29|3.71|  Male|    No|Sun|Dinner|   3|\n",
      "|     16.97| 3.5|Female|    No|Sun|Dinner|   3|\n",
      "|     20.65|3.35|  Male|    No|Sat|Dinner|   3|\n",
      "+----------+----+------+------+---+------+----+\n",
      "only showing top 20 rows\n",
      "\n"
     ]
    }
   ],
   "source": [
    "f_path = 'tips.csv'\n",
    "tips = spark.read.csv(f_path, header=True)\n",
    "tips.show()"
   ]
  },
  {
   "cell_type": "markdown",
   "id": "377c73ac-f238-4020-b098-7be9801612f0",
   "metadata": {},
   "source": [
    "### Check schema"
   ]
  },
  {
   "cell_type": "code",
   "execution_count": 9,
   "id": "2ea8038f-8239-4ef6-99f0-9918829b691b",
   "metadata": {},
   "outputs": [
    {
     "name": "stdout",
     "output_type": "stream",
     "text": [
      "root\n",
      " |-- total_bill: string (nullable = true)\n",
      " |-- tip: string (nullable = true)\n",
      " |-- sex: string (nullable = true)\n",
      " |-- smoker: string (nullable = true)\n",
      " |-- day: string (nullable = true)\n",
      " |-- time: string (nullable = true)\n",
      " |-- size: string (nullable = true)\n",
      "\n"
     ]
    }
   ],
   "source": [
    "tips.printSchema()"
   ]
  },
  {
   "cell_type": "raw",
   "id": "7e664d51-6c96-42e1-b755-2827c914ef40",
   "metadata": {},
   "source": [
    "As we see above even integer columns are considered to be string. We need to set inferSchema as True to rectify this"
   ]
  },
  {
   "cell_type": "code",
   "execution_count": 10,
   "id": "d5d6fe6e-c82b-4392-bc1f-2b1c46da358a",
   "metadata": {},
   "outputs": [],
   "source": [
    "tips = spark.read.csv(f_path, header=True, inferSchema=True)"
   ]
  },
  {
   "cell_type": "code",
   "execution_count": 11,
   "id": "2a3bfd17-a7ef-4f19-8369-2326c83dc9bb",
   "metadata": {},
   "outputs": [
    {
     "name": "stdout",
     "output_type": "stream",
     "text": [
      "root\n",
      " |-- total_bill: double (nullable = true)\n",
      " |-- tip: double (nullable = true)\n",
      " |-- sex: string (nullable = true)\n",
      " |-- smoker: string (nullable = true)\n",
      " |-- day: string (nullable = true)\n",
      " |-- time: string (nullable = true)\n",
      " |-- size: integer (nullable = true)\n",
      "\n"
     ]
    }
   ],
   "source": [
    "tips.printSchema()"
   ]
  },
  {
   "cell_type": "code",
   "execution_count": 12,
   "id": "6209a8d9-ce6f-425c-9c2d-3707444ef7e7",
   "metadata": {},
   "outputs": [
    {
     "data": {
      "text/plain": [
       "pyspark.sql.dataframe.DataFrame"
      ]
     },
     "execution_count": 12,
     "metadata": {},
     "output_type": "execute_result"
    }
   ],
   "source": [
    "# Datatpe\n",
    "type(tips)"
   ]
  },
  {
   "cell_type": "code",
   "execution_count": 13,
   "id": "0e6a0f90-1071-49e9-a4f3-be5f1e7db774",
   "metadata": {},
   "outputs": [
    {
     "data": {
      "text/plain": [
       "['total_bill', 'tip', 'sex', 'smoker', 'day', 'time', 'size']"
      ]
     },
     "execution_count": 13,
     "metadata": {},
     "output_type": "execute_result"
    }
   ],
   "source": [
    "# Listing columns\n",
    "tips.columns"
   ]
  },
  {
   "cell_type": "code",
   "execution_count": 14,
   "id": "540c4adf-fb6f-4c1b-8e1b-b954634d64d3",
   "metadata": {},
   "outputs": [
    {
     "name": "stdout",
     "output_type": "stream",
     "text": [
      "+------+\n",
      "|   sex|\n",
      "+------+\n",
      "|Female|\n",
      "|  Male|\n",
      "|  Male|\n",
      "|  Male|\n",
      "|Female|\n",
      "|  Male|\n",
      "|  Male|\n",
      "|  Male|\n",
      "|  Male|\n",
      "|  Male|\n",
      "|  Male|\n",
      "|Female|\n",
      "|  Male|\n",
      "|  Male|\n",
      "|Female|\n",
      "|  Male|\n",
      "|Female|\n",
      "|  Male|\n",
      "|Female|\n",
      "|  Male|\n",
      "+------+\n",
      "only showing top 20 rows\n",
      "\n"
     ]
    }
   ],
   "source": [
    "# Filtering by column name\n",
    "tips.select('sex').show()"
   ]
  },
  {
   "cell_type": "code",
   "execution_count": 15,
   "id": "5b8f8ec6-c1f0-4cac-9eee-91590025f139",
   "metadata": {},
   "outputs": [
    {
     "name": "stdout",
     "output_type": "stream",
     "text": [
      "+------+----+\n",
      "|   sex| tip|\n",
      "+------+----+\n",
      "|Female|1.01|\n",
      "|  Male|1.66|\n",
      "|  Male| 3.5|\n",
      "|  Male|3.31|\n",
      "|Female|3.61|\n",
      "|  Male|4.71|\n",
      "|  Male| 2.0|\n",
      "|  Male|3.12|\n",
      "|  Male|1.96|\n",
      "|  Male|3.23|\n",
      "|  Male|1.71|\n",
      "|Female| 5.0|\n",
      "|  Male|1.57|\n",
      "|  Male| 3.0|\n",
      "|Female|3.02|\n",
      "|  Male|3.92|\n",
      "|Female|1.67|\n",
      "|  Male|3.71|\n",
      "|Female| 3.5|\n",
      "|  Male|3.35|\n",
      "+------+----+\n",
      "only showing top 20 rows\n",
      "\n"
     ]
    }
   ],
   "source": [
    "tips.select(['sex','tip']).show()"
   ]
  },
  {
   "cell_type": "code",
   "execution_count": 16,
   "id": "8dc24213-6cca-4884-9fa7-e92e4e1a0f9b",
   "metadata": {},
   "outputs": [
    {
     "name": "stdout",
     "output_type": "stream",
     "text": [
      "+----------+----+------+------+---+------+----+------------------+\n",
      "|total_bill| tip|   sex|smoker|day|  time|size|      2 extra tips|\n",
      "+----------+----+------+------+---+------+----+------------------+\n",
      "|     16.99|1.01|Female|    No|Sun|Dinner|   2|              3.01|\n",
      "|     10.34|1.66|  Male|    No|Sun|Dinner|   3|              3.66|\n",
      "|     21.01| 3.5|  Male|    No|Sun|Dinner|   3|               5.5|\n",
      "|     23.68|3.31|  Male|    No|Sun|Dinner|   2|5.3100000000000005|\n",
      "|     24.59|3.61|Female|    No|Sun|Dinner|   4| 5.609999999999999|\n",
      "|     25.29|4.71|  Male|    No|Sun|Dinner|   4|              6.71|\n",
      "|      8.77| 2.0|  Male|    No|Sun|Dinner|   2|               4.0|\n",
      "|     26.88|3.12|  Male|    No|Sun|Dinner|   4|              5.12|\n",
      "|     15.04|1.96|  Male|    No|Sun|Dinner|   2|              3.96|\n",
      "|     14.78|3.23|  Male|    No|Sun|Dinner|   2|              5.23|\n",
      "|     10.27|1.71|  Male|    No|Sun|Dinner|   2|              3.71|\n",
      "|     35.26| 5.0|Female|    No|Sun|Dinner|   4|               7.0|\n",
      "|     15.42|1.57|  Male|    No|Sun|Dinner|   2|3.5700000000000003|\n",
      "|     18.43| 3.0|  Male|    No|Sun|Dinner|   4|               5.0|\n",
      "|     14.83|3.02|Female|    No|Sun|Dinner|   2|              5.02|\n",
      "|     21.58|3.92|  Male|    No|Sun|Dinner|   2|              5.92|\n",
      "|     10.33|1.67|Female|    No|Sun|Dinner|   3|              3.67|\n",
      "|     16.29|3.71|  Male|    No|Sun|Dinner|   3|              5.71|\n",
      "|     16.97| 3.5|Female|    No|Sun|Dinner|   3|               5.5|\n",
      "|     20.65|3.35|  Male|    No|Sat|Dinner|   3|              5.35|\n",
      "+----------+----+------+------+---+------+----+------------------+\n",
      "only showing top 20 rows\n",
      "\n"
     ]
    }
   ],
   "source": [
    "# Adding column\n",
    "tips.withColumn('2 extra tips', tips['tip']+2).show()"
   ]
  },
  {
   "cell_type": "code",
   "execution_count": 17,
   "id": "cfacd3d6-8fd9-4de1-834c-5f40f174b3f9",
   "metadata": {},
   "outputs": [
    {
     "name": "stdout",
     "output_type": "stream",
     "text": [
      "+----------+----+------+------+---+------+----+\n",
      "|total_bill| tip|   sex|smoker|day|  time|size|\n",
      "+----------+----+------+------+---+------+----+\n",
      "|     16.99|1.01|Female|    No|Sun|Dinner|   2|\n",
      "|     10.34|1.66|  Male|    No|Sun|Dinner|   3|\n",
      "|     21.01| 3.5|  Male|    No|Sun|Dinner|   3|\n",
      "|     23.68|3.31|  Male|    No|Sun|Dinner|   2|\n",
      "|     24.59|3.61|Female|    No|Sun|Dinner|   4|\n",
      "|     25.29|4.71|  Male|    No|Sun|Dinner|   4|\n",
      "|      8.77| 2.0|  Male|    No|Sun|Dinner|   2|\n",
      "|     26.88|3.12|  Male|    No|Sun|Dinner|   4|\n",
      "|     15.04|1.96|  Male|    No|Sun|Dinner|   2|\n",
      "|     14.78|3.23|  Male|    No|Sun|Dinner|   2|\n",
      "|     10.27|1.71|  Male|    No|Sun|Dinner|   2|\n",
      "|     35.26| 5.0|Female|    No|Sun|Dinner|   4|\n",
      "|     15.42|1.57|  Male|    No|Sun|Dinner|   2|\n",
      "|     18.43| 3.0|  Male|    No|Sun|Dinner|   4|\n",
      "|     14.83|3.02|Female|    No|Sun|Dinner|   2|\n",
      "|     21.58|3.92|  Male|    No|Sun|Dinner|   2|\n",
      "|     10.33|1.67|Female|    No|Sun|Dinner|   3|\n",
      "|     16.29|3.71|  Male|    No|Sun|Dinner|   3|\n",
      "|     16.97| 3.5|Female|    No|Sun|Dinner|   3|\n",
      "|     20.65|3.35|  Male|    No|Sat|Dinner|   3|\n",
      "+----------+----+------+------+---+------+----+\n",
      "only showing top 20 rows\n",
      "\n"
     ]
    }
   ],
   "source": [
    "# Dropping column\n",
    "tips.drop('2 extra tips').show()"
   ]
  },
  {
   "cell_type": "code",
   "execution_count": 18,
   "id": "04aed531-ac52-4634-91a3-aa39b98d74eb",
   "metadata": {
    "tags": []
   },
   "outputs": [
    {
     "name": "stdout",
     "output_type": "stream",
     "text": [
      "+----------+----+------+------+---+------+----+\n",
      "|total_bill| tip|gender|smoker|day|  time|size|\n",
      "+----------+----+------+------+---+------+----+\n",
      "|     16.99|1.01|Female|    No|Sun|Dinner|   2|\n",
      "|     10.34|1.66|  Male|    No|Sun|Dinner|   3|\n",
      "|     21.01| 3.5|  Male|    No|Sun|Dinner|   3|\n",
      "|     23.68|3.31|  Male|    No|Sun|Dinner|   2|\n",
      "|     24.59|3.61|Female|    No|Sun|Dinner|   4|\n",
      "|     25.29|4.71|  Male|    No|Sun|Dinner|   4|\n",
      "|      8.77| 2.0|  Male|    No|Sun|Dinner|   2|\n",
      "|     26.88|3.12|  Male|    No|Sun|Dinner|   4|\n",
      "|     15.04|1.96|  Male|    No|Sun|Dinner|   2|\n",
      "|     14.78|3.23|  Male|    No|Sun|Dinner|   2|\n",
      "|     10.27|1.71|  Male|    No|Sun|Dinner|   2|\n",
      "|     35.26| 5.0|Female|    No|Sun|Dinner|   4|\n",
      "|     15.42|1.57|  Male|    No|Sun|Dinner|   2|\n",
      "|     18.43| 3.0|  Male|    No|Sun|Dinner|   4|\n",
      "|     14.83|3.02|Female|    No|Sun|Dinner|   2|\n",
      "|     21.58|3.92|  Male|    No|Sun|Dinner|   2|\n",
      "|     10.33|1.67|Female|    No|Sun|Dinner|   3|\n",
      "|     16.29|3.71|  Male|    No|Sun|Dinner|   3|\n",
      "|     16.97| 3.5|Female|    No|Sun|Dinner|   3|\n",
      "|     20.65|3.35|  Male|    No|Sat|Dinner|   3|\n",
      "+----------+----+------+------+---+------+----+\n",
      "only showing top 20 rows\n",
      "\n"
     ]
    }
   ],
   "source": [
    "# Rename columns\n",
    "tips.withColumnRenamed('sex','gender').show()"
   ]
  },
  {
   "cell_type": "code",
   "execution_count": 19,
   "id": "0e6ade3c-0518-4307-82d4-d6e5107a1562",
   "metadata": {},
   "outputs": [
    {
     "data": {
      "text/plain": [
       "[('total_bill', 'double'),\n",
       " ('tip', 'double'),\n",
       " ('sex', 'string'),\n",
       " ('smoker', 'string'),\n",
       " ('day', 'string'),\n",
       " ('time', 'string'),\n",
       " ('size', 'int')]"
      ]
     },
     "execution_count": 19,
     "metadata": {},
     "output_type": "execute_result"
    }
   ],
   "source": [
    "# Datatypes\n",
    "tips.dtypes"
   ]
  },
  {
   "cell_type": "code",
   "execution_count": 20,
   "id": "085925ef-00bb-493a-b5b3-c33a8998e2ee",
   "metadata": {},
   "outputs": [
    {
     "name": "stdout",
     "output_type": "stream",
     "text": [
      "+-------+------------------+------------------+------+------+----+------+------------------+\n",
      "|summary|        total_bill|               tip|   sex|smoker| day|  time|              size|\n",
      "+-------+------------------+------------------+------+------+----+------+------------------+\n",
      "|  count|               244|               244|   244|   244| 244|   244|               244|\n",
      "|   mean|19.785942622950824|2.9982786885245902|  null|  null|null|  null| 2.569672131147541|\n",
      "| stddev| 8.902411954856857|1.3836381890011815|  null|  null|null|  null|0.9510998047322347|\n",
      "|    min|              3.07|               1.0|Female|    No| Fri|Dinner|                 1|\n",
      "|    max|             50.81|              10.0|  Male|   Yes|Thur| Lunch|                 6|\n",
      "+-------+------------------+------------------+------+------+----+------+------------------+\n",
      "\n"
     ]
    }
   ],
   "source": [
    "# Describe\n",
    "tips.describe().show()"
   ]
  },
  {
   "cell_type": "code",
   "execution_count": 21,
   "id": "63129f27-06cf-4785-a8f0-3f1aabddd02d",
   "metadata": {},
   "outputs": [
    {
     "name": "stdout",
     "output_type": "stream",
     "text": [
      "+----------+----+------+------+---+------+----+\n",
      "|total_bill| tip|   sex|smoker|day|  time|size|\n",
      "+----------+----+------+------+---+------+----+\n",
      "|     16.99|1.01|Female|    No|Sun|Dinner|   2|\n",
      "|     10.34|1.66|  Male|    No|Sun|Dinner|   3|\n",
      "|     21.01| 3.5|  Male|    No|Sun|Dinner|   3|\n",
      "|     23.68|3.31|  Male|    No|Sun|Dinner|   2|\n",
      "|     24.59|3.61|Female|    No|Sun|Dinner|   4|\n",
      "|     25.29|4.71|  Male|    No|Sun|Dinner|   4|\n",
      "|      8.77| 2.0|  Male|    No|Sun|Dinner|   2|\n",
      "|     26.88|3.12|  Male|    No|Sun|Dinner|   4|\n",
      "|     15.04|1.96|  Male|    No|Sun|Dinner|   2|\n",
      "|     14.78|3.23|  Male|    No|Sun|Dinner|   2|\n",
      "|     10.27|1.71|  Male|    No|Sun|Dinner|   2|\n",
      "|     35.26| 5.0|Female|    No|Sun|Dinner|   4|\n",
      "|     15.42|1.57|  Male|    No|Sun|Dinner|   2|\n",
      "|     18.43| 3.0|  Male|    No|Sun|Dinner|   4|\n",
      "|     14.83|3.02|Female|    No|Sun|Dinner|   2|\n",
      "|     21.58|3.92|  Male|    No|Sun|Dinner|   2|\n",
      "|     10.33|1.67|Female|    No|Sun|Dinner|   3|\n",
      "|     16.29|3.71|  Male|    No|Sun|Dinner|   3|\n",
      "|     16.97| 3.5|Female|    No|Sun|Dinner|   3|\n",
      "|     20.65|3.35|  Male|    No|Sat|Dinner|   3|\n",
      "+----------+----+------+------+---+------+----+\n",
      "only showing top 20 rows\n",
      "\n"
     ]
    }
   ],
   "source": [
    "# Dropping rows with nan/null values\n",
    "tips.na.drop().show()"
   ]
  },
  {
   "cell_type": "raw",
   "id": "99fad9c0-ae37-457f-bc0e-567f61c7b675",
   "metadata": {},
   "source": [
    "In Apache Spark, createOrReplaceTempView is a method used to create or replace a temporary view in the Spark SQL catalog. A temporary view is a logical table that is associated with a DataFrame and can be used to perform SQL queries on the data in the DataFrame."
   ]
  },
  {
   "cell_type": "code",
   "execution_count": 22,
   "id": "d732cfc4-4345-48e6-af11-956a9472e74d",
   "metadata": {},
   "outputs": [],
   "source": [
    "tips.createOrReplaceTempView(\"tips\")"
   ]
  },
  {
   "cell_type": "code",
   "execution_count": 23,
   "id": "70f023f1-5f53-4b38-aec7-ec4c395b19c6",
   "metadata": {},
   "outputs": [],
   "source": [
    "query = \"SELECT * FROM tips LIMIT 2\""
   ]
  },
  {
   "cell_type": "code",
   "execution_count": 24,
   "id": "c016195e-61ce-41a3-9e08-3465ee0d8780",
   "metadata": {},
   "outputs": [
    {
     "name": "stdout",
     "output_type": "stream",
     "text": [
      "+----------+----+------+------+---+------+----+\n",
      "|total_bill| tip|   sex|smoker|day|  time|size|\n",
      "+----------+----+------+------+---+------+----+\n",
      "|     16.99|1.01|Female|    No|Sun|Dinner|   2|\n",
      "|     10.34|1.66|  Male|    No|Sun|Dinner|   3|\n",
      "+----------+----+------+------+---+------+----+\n",
      "\n"
     ]
    }
   ],
   "source": [
    "tips2 = spark.sql(query)\n",
    "tips2.show()"
   ]
  },
  {
   "cell_type": "code",
   "execution_count": 25,
   "id": "76934c79-25ca-4c0c-be6b-0f3db7bfd7b3",
   "metadata": {},
   "outputs": [],
   "source": [
    "query = \"\"\"\n",
    "SELECT day, sex, COUNT(*) as N FROM tips\n",
    "GROUP BY day, sex\n",
    "ORDER BY day\n",
    "\"\"\""
   ]
  },
  {
   "cell_type": "code",
   "execution_count": 26,
   "id": "f382809e-bef1-45e8-84e7-b75bf5312e63",
   "metadata": {},
   "outputs": [
    {
     "name": "stdout",
     "output_type": "stream",
     "text": [
      "+----+------+---+\n",
      "| day|   sex|  N|\n",
      "+----+------+---+\n",
      "| Fri|  Male| 10|\n",
      "| Fri|Female|  9|\n",
      "| Sat|  Male| 59|\n",
      "| Sat|Female| 28|\n",
      "| Sun|  Male| 58|\n",
      "| Sun|Female| 18|\n",
      "|Thur|  Male| 30|\n",
      "|Thur|Female| 32|\n",
      "+----+------+---+\n",
      "\n"
     ]
    }
   ],
   "source": [
    "tip_count = spark.sql(query)\n",
    "tip_count.show()"
   ]
  },
  {
   "cell_type": "markdown",
   "id": "04cd15d9-8947-458c-ade2-97c83b259dc5",
   "metadata": {},
   "source": [
    "### Converting into pandas dataframe"
   ]
  },
  {
   "cell_type": "code",
   "execution_count": 27,
   "id": "57606b76-aac1-4b4d-baf6-76f15eb4e223",
   "metadata": {},
   "outputs": [
    {
     "data": {
      "text/html": [
       "<div>\n",
       "<style scoped>\n",
       "    .dataframe tbody tr th:only-of-type {\n",
       "        vertical-align: middle;\n",
       "    }\n",
       "\n",
       "    .dataframe tbody tr th {\n",
       "        vertical-align: top;\n",
       "    }\n",
       "\n",
       "    .dataframe thead th {\n",
       "        text-align: right;\n",
       "    }\n",
       "</style>\n",
       "<table border=\"1\" class=\"dataframe\">\n",
       "  <thead>\n",
       "    <tr style=\"text-align: right;\">\n",
       "      <th></th>\n",
       "      <th>day</th>\n",
       "      <th>sex</th>\n",
       "      <th>N</th>\n",
       "    </tr>\n",
       "  </thead>\n",
       "  <tbody>\n",
       "    <tr>\n",
       "      <th>0</th>\n",
       "      <td>Fri</td>\n",
       "      <td>Male</td>\n",
       "      <td>10</td>\n",
       "    </tr>\n",
       "    <tr>\n",
       "      <th>1</th>\n",
       "      <td>Fri</td>\n",
       "      <td>Female</td>\n",
       "      <td>9</td>\n",
       "    </tr>\n",
       "    <tr>\n",
       "      <th>2</th>\n",
       "      <td>Sat</td>\n",
       "      <td>Male</td>\n",
       "      <td>59</td>\n",
       "    </tr>\n",
       "    <tr>\n",
       "      <th>3</th>\n",
       "      <td>Sat</td>\n",
       "      <td>Female</td>\n",
       "      <td>28</td>\n",
       "    </tr>\n",
       "    <tr>\n",
       "      <th>4</th>\n",
       "      <td>Sun</td>\n",
       "      <td>Male</td>\n",
       "      <td>58</td>\n",
       "    </tr>\n",
       "    <tr>\n",
       "      <th>5</th>\n",
       "      <td>Sun</td>\n",
       "      <td>Female</td>\n",
       "      <td>18</td>\n",
       "    </tr>\n",
       "    <tr>\n",
       "      <th>6</th>\n",
       "      <td>Thur</td>\n",
       "      <td>Male</td>\n",
       "      <td>30</td>\n",
       "    </tr>\n",
       "    <tr>\n",
       "      <th>7</th>\n",
       "      <td>Thur</td>\n",
       "      <td>Female</td>\n",
       "      <td>32</td>\n",
       "    </tr>\n",
       "  </tbody>\n",
       "</table>\n",
       "</div>"
      ],
      "text/plain": [
       "    day     sex   N\n",
       "0   Fri    Male  10\n",
       "1   Fri  Female   9\n",
       "2   Sat    Male  59\n",
       "3   Sat  Female  28\n",
       "4   Sun    Male  58\n",
       "5   Sun  Female  18\n",
       "6  Thur    Male  30\n",
       "7  Thur  Female  32"
      ]
     },
     "execution_count": 27,
     "metadata": {},
     "output_type": "execute_result"
    }
   ],
   "source": [
    "pd_tip_count = tip_count.toPandas()\n",
    "pd_tip_count"
   ]
  },
  {
   "cell_type": "markdown",
   "id": "4e5bc677-395e-4734-9c7f-661b5e619eec",
   "metadata": {},
   "source": [
    "### Imputation"
   ]
  },
  {
   "cell_type": "raw",
   "id": "c6282830-70ad-4f9f-ba81-18bfaf1b81ac",
   "metadata": {},
   "source": [
    "\"Imputer\" is a feature transformer that is used for handling missing values in a DataFrame or Dataset. It provides a convenient way to fill in missing values with a specified strategy or a constant value.\n",
    "The Imputer in Spark allows you to replace missing values with the mean, median, or a user-defined constant value."
   ]
  },
  {
   "cell_type": "code",
   "execution_count": 28,
   "id": "76e17f0d-4db0-4344-b69e-ba5d87a6d337",
   "metadata": {},
   "outputs": [],
   "source": [
    "f_path ='test.csv'\n",
    "test = spark.read.csv(f_path, header=True, inferSchema=True)"
   ]
  },
  {
   "cell_type": "code",
   "execution_count": 29,
   "id": "17663d60-afcb-4bd6-a614-725d5496a15b",
   "metadata": {},
   "outputs": [
    {
     "name": "stdout",
     "output_type": "stream",
     "text": [
      "+----+----+-----+\n",
      "|Name| age|score|\n",
      "+----+----+-----+\n",
      "|  as|  23|   97|\n",
      "|  ds|  54|   45|\n",
      "|  av|null| null|\n",
      "|  bl|null|   87|\n",
      "+----+----+-----+\n",
      "\n"
     ]
    }
   ],
   "source": [
    "test.show()"
   ]
  },
  {
   "cell_type": "code",
   "execution_count": 30,
   "id": "c8229ff0-9ce9-4896-8ab1-23e697693270",
   "metadata": {},
   "outputs": [],
   "source": [
    "# Mean of all columns\n",
    "from pyspark.ml.feature import Imputer\n",
    "\n",
    "imputer = Imputer(\n",
    "    inputCols=['age','score'],\n",
    "    outputCols=[\"{}_imputed\".format(c) for c in ['age','score']]\n",
    "    ).setStrategy(\"median\")"
   ]
  },
  {
   "cell_type": "code",
   "execution_count": 31,
   "id": "b1987e35-8fa3-4c47-9f48-ce00ae78b533",
   "metadata": {},
   "outputs": [
    {
     "name": "stdout",
     "output_type": "stream",
     "text": [
      "+----+----+-----+-----------+-------------+\n",
      "|Name| age|score|age_imputed|score_imputed|\n",
      "+----+----+-----+-----------+-------------+\n",
      "|  as|  23|   97|         23|           97|\n",
      "|  ds|  54|   45|         54|           45|\n",
      "|  av|null| null|         23|           87|\n",
      "|  bl|null|   87|         23|           87|\n",
      "+----+----+-----+-----------+-------------+\n",
      "\n"
     ]
    }
   ],
   "source": [
    "imputer.fit(test).transform(test).show()"
   ]
  },
  {
   "cell_type": "markdown",
   "id": "c34604c2-556a-4e11-b348-fc2129705b95",
   "metadata": {
    "tags": []
   },
   "source": [
    "### Filters"
   ]
  },
  {
   "cell_type": "code",
   "execution_count": 50,
   "id": "fdb0b92a-2c06-48a3-843a-3b5f925a795b",
   "metadata": {},
   "outputs": [],
   "source": [
    "f_path = 'tips.csv'\n",
    "tips = spark.read.csv(f_path, header=True,inferSchema=True)"
   ]
  },
  {
   "cell_type": "code",
   "execution_count": 51,
   "id": "32787348-60f9-4819-be5b-3585f5502373",
   "metadata": {},
   "outputs": [],
   "source": [
    "filterA = tips.sex == \"Female\"\n",
    "filterB = tips.day == \"Sun\"\n",
    "tip_filter = tips.filter(filterA).filter(filterB)"
   ]
  },
  {
   "cell_type": "code",
   "execution_count": 52,
   "id": "9fe8539d-dbf7-44f8-b058-dc4306c17dfc",
   "metadata": {},
   "outputs": [
    {
     "name": "stdout",
     "output_type": "stream",
     "text": [
      "+----------+----+------+------+---+------+----+\n",
      "|total_bill| tip|   sex|smoker|day|  time|size|\n",
      "+----------+----+------+------+---+------+----+\n",
      "|     16.99|1.01|Female|    No|Sun|Dinner|   2|\n",
      "|     24.59|3.61|Female|    No|Sun|Dinner|   4|\n",
      "|     35.26| 5.0|Female|    No|Sun|Dinner|   4|\n",
      "|     14.83|3.02|Female|    No|Sun|Dinner|   2|\n",
      "|     10.33|1.67|Female|    No|Sun|Dinner|   3|\n",
      "|     16.97| 3.5|Female|    No|Sun|Dinner|   3|\n",
      "|     10.29| 2.6|Female|    No|Sun|Dinner|   2|\n",
      "|     34.81| 5.2|Female|    No|Sun|Dinner|   4|\n",
      "|     25.71| 4.0|Female|    No|Sun|Dinner|   3|\n",
      "|     17.31| 3.5|Female|    No|Sun|Dinner|   2|\n",
      "|     29.85|5.14|Female|    No|Sun|Dinner|   5|\n",
      "|      25.0|3.75|Female|    No|Sun|Dinner|   4|\n",
      "|     13.39|2.61|Female|    No|Sun|Dinner|   2|\n",
      "|     16.21| 2.0|Female|    No|Sun|Dinner|   3|\n",
      "|     17.51| 3.0|Female|   Yes|Sun|Dinner|   2|\n",
      "|       9.6| 4.0|Female|   Yes|Sun|Dinner|   2|\n",
      "|      20.9| 3.5|Female|   Yes|Sun|Dinner|   3|\n",
      "|     18.15| 3.5|Female|   Yes|Sun|Dinner|   3|\n",
      "+----------+----+------+------+---+------+----+\n",
      "\n"
     ]
    }
   ],
   "source": [
    "tip_filter.show()"
   ]
  },
  {
   "cell_type": "code",
   "execution_count": 53,
   "id": "4d2e72be-86df-4123-b31d-4e0ceb2a159c",
   "metadata": {},
   "outputs": [
    {
     "name": "stdout",
     "output_type": "stream",
     "text": [
      "+----------+----+------+------+----+------+----+\n",
      "|total_bill| tip|   sex|smoker| day|  time|size|\n",
      "+----------+----+------+------+----+------+----+\n",
      "|     39.42|7.58|  Male|    No| Sat|Dinner|   4|\n",
      "|      30.4| 5.6|  Male|    No| Sun|Dinner|   4|\n",
      "|      32.4| 6.0|  Male|    No| Sun|Dinner|   4|\n",
      "|     34.81| 5.2|Female|    No| Sun|Dinner|   4|\n",
      "|     48.27|6.73|  Male|    No| Sat|Dinner|   4|\n",
      "|     34.83|5.17|Female|    No|Thur| Lunch|   4|\n",
      "|     24.71|5.85|  Male|    No|Thur| Lunch|   2|\n",
      "|     29.93|5.07|  Male|    No| Sun|Dinner|   4|\n",
      "|      34.3| 6.7|  Male|    No|Thur| Lunch|   6|\n",
      "|     29.85|5.14|Female|    No| Sun|Dinner|   5|\n",
      "|     50.81|10.0|  Male|   Yes| Sat|Dinner|   3|\n",
      "|      7.25|5.15|  Male|   Yes| Sun|Dinner|   2|\n",
      "|     23.33|5.65|  Male|   Yes| Sun|Dinner|   2|\n",
      "|     23.17| 6.5|  Male|   Yes| Sun|Dinner|   4|\n",
      "|     25.89|5.16|  Male|   Yes| Sat|Dinner|   4|\n",
      "|     48.33| 9.0|  Male|    No| Sat|Dinner|   4|\n",
      "|     28.17| 6.5|Female|   Yes| Sat|Dinner|   3|\n",
      "|     29.03|5.92|  Male|    No| Sat|Dinner|   3|\n",
      "+----------+----+------+------+----+------+----+\n",
      "\n"
     ]
    }
   ],
   "source": [
    "# Method 1: Tips greater than 5\n",
    "tips.filter(\"tip>5.00\").show()"
   ]
  },
  {
   "cell_type": "code",
   "execution_count": 54,
   "id": "62d41797-4304-49d4-b6a8-a066c43ea556",
   "metadata": {},
   "outputs": [
    {
     "name": "stdout",
     "output_type": "stream",
     "text": [
      "+----------+----+------+------+----+------+----+\n",
      "|total_bill| tip|   sex|smoker| day|  time|size|\n",
      "+----------+----+------+------+----+------+----+\n",
      "|     39.42|7.58|  Male|    No| Sat|Dinner|   4|\n",
      "|      30.4| 5.6|  Male|    No| Sun|Dinner|   4|\n",
      "|      32.4| 6.0|  Male|    No| Sun|Dinner|   4|\n",
      "|     34.81| 5.2|Female|    No| Sun|Dinner|   4|\n",
      "|     48.27|6.73|  Male|    No| Sat|Dinner|   4|\n",
      "|     34.83|5.17|Female|    No|Thur| Lunch|   4|\n",
      "|     24.71|5.85|  Male|    No|Thur| Lunch|   2|\n",
      "|     29.93|5.07|  Male|    No| Sun|Dinner|   4|\n",
      "|      34.3| 6.7|  Male|    No|Thur| Lunch|   6|\n",
      "|     29.85|5.14|Female|    No| Sun|Dinner|   5|\n",
      "|     50.81|10.0|  Male|   Yes| Sat|Dinner|   3|\n",
      "|      7.25|5.15|  Male|   Yes| Sun|Dinner|   2|\n",
      "|     23.33|5.65|  Male|   Yes| Sun|Dinner|   2|\n",
      "|     23.17| 6.5|  Male|   Yes| Sun|Dinner|   4|\n",
      "|     25.89|5.16|  Male|   Yes| Sat|Dinner|   4|\n",
      "|     48.33| 9.0|  Male|    No| Sat|Dinner|   4|\n",
      "|     28.17| 6.5|Female|   Yes| Sat|Dinner|   3|\n",
      "|     29.03|5.92|  Male|    No| Sat|Dinner|   3|\n",
      "+----------+----+------+------+----+------+----+\n",
      "\n"
     ]
    }
   ],
   "source": [
    "# Method 2: Tips greater than 5\n",
    "tips.filter(tips['tip']>5.00).show()"
   ]
  },
  {
   "cell_type": "code",
   "execution_count": 55,
   "id": "6dfb811b-7816-4021-97a8-a9bd7a06c7a1",
   "metadata": {},
   "outputs": [
    {
     "name": "stdout",
     "output_type": "stream",
     "text": [
      "+------+------+\n",
      "|   sex|  time|\n",
      "+------+------+\n",
      "|  Male|Dinner|\n",
      "|  Male|Dinner|\n",
      "|  Male|Dinner|\n",
      "|Female|Dinner|\n",
      "|  Male|Dinner|\n",
      "|Female| Lunch|\n",
      "|  Male| Lunch|\n",
      "|  Male|Dinner|\n",
      "|  Male| Lunch|\n",
      "|Female|Dinner|\n",
      "|  Male|Dinner|\n",
      "|  Male|Dinner|\n",
      "+------+------+\n",
      "\n"
     ]
    }
   ],
   "source": [
    "# Multiple Filter with select\n",
    "tips.filter(\"tip>5.00 and smoker=='No'\").select(['sex','time']).show()"
   ]
  },
  {
   "cell_type": "code",
   "execution_count": 56,
   "id": "1d307b37-5e8f-4dc9-afca-5dddb74c2502",
   "metadata": {},
   "outputs": [
    {
     "name": "stdout",
     "output_type": "stream",
     "text": [
      "+------+------+\n",
      "|   sex|  time|\n",
      "+------+------+\n",
      "|  Male|Dinner|\n",
      "|  Male|Dinner|\n",
      "|  Male|Dinner|\n",
      "|Female|Dinner|\n",
      "|  Male|Dinner|\n",
      "|Female| Lunch|\n",
      "|  Male| Lunch|\n",
      "|  Male|Dinner|\n",
      "|  Male| Lunch|\n",
      "|Female|Dinner|\n",
      "|  Male|Dinner|\n",
      "|  Male|Dinner|\n",
      "+------+------+\n",
      "\n"
     ]
    }
   ],
   "source": [
    "# Method 2\n",
    "tips.filter((tips['tip']>5.00) & (tips['smoker']=='No')).select(['sex','time']).show()"
   ]
  },
  {
   "cell_type": "markdown",
   "id": "29b16bac-7261-4260-8d83-3447c19b184b",
   "metadata": {},
   "source": [
    "### Group By and Aggregate Function"
   ]
  },
  {
   "cell_type": "code",
   "execution_count": 59,
   "id": "38b44ad8-94a4-4739-a0e5-12cc3cbd179a",
   "metadata": {},
   "outputs": [
    {
     "name": "stdout",
     "output_type": "stream",
     "text": [
      "+------+------------------+-----------------+---------+\n",
      "|   sex|   sum(total_bill)|         sum(tip)|sum(size)|\n",
      "+------+------------------+-----------------+---------+\n",
      "|Female|1570.9499999999998|           246.51|      214|\n",
      "|  Male|3256.8200000000024|485.0700000000001|      413|\n",
      "+------+------------------+-----------------+---------+\n",
      "\n"
     ]
    }
   ],
   "source": [
    "# Group by and aggregating all numeric columns\n",
    "tips.groupBy('sex').sum().show()"
   ]
  },
  {
   "cell_type": "code",
   "execution_count": 60,
   "id": "6019a4b3-21fd-4920-aa18-d36f94a02883",
   "metadata": {},
   "outputs": [
    {
     "name": "stdout",
     "output_type": "stream",
     "text": [
      "+------+-----------------+\n",
      "|   sex|         sum(tip)|\n",
      "+------+-----------------+\n",
      "|Female|           246.51|\n",
      "|  Male|485.0700000000001|\n",
      "+------+-----------------+\n",
      "\n"
     ]
    }
   ],
   "source": [
    "# Group by and aggregating single column\n",
    "tips.groupBy('sex').sum('tip').show()"
   ]
  },
  {
   "cell_type": "code",
   "execution_count": 61,
   "id": "221ef6d2-b11a-46c9-853f-f38541efc173",
   "metadata": {},
   "outputs": [
    {
     "name": "stdout",
     "output_type": "stream",
     "text": [
      "+--------+\n",
      "|sum(tip)|\n",
      "+--------+\n",
      "|  731.58|\n",
      "+--------+\n",
      "\n"
     ]
    }
   ],
   "source": [
    "# Calculating sum of tip column using aggregate function\n",
    "tips.agg({'tip':'sum'}).show()"
   ]
  },
  {
   "cell_type": "markdown",
   "id": "ba3fb6a9-f97f-42f2-bc5d-839acd11aa0e",
   "metadata": {},
   "source": [
    "### PySpark ML"
   ]
  },
  {
   "cell_type": "raw",
   "id": "60ebe73f-dc10-416f-8799-39bec250b31d",
   "metadata": {},
   "source": [
    "Predicting salary based on Age and Experience"
   ]
  },
  {
   "cell_type": "code",
   "execution_count": 62,
   "id": "faab9d19-dae4-4dd4-80a8-b48d31860097",
   "metadata": {},
   "outputs": [],
   "source": [
    "training = spark.read.csv('Salary.csv',header=True,inferSchema=True)"
   ]
  },
  {
   "cell_type": "code",
   "execution_count": 63,
   "id": "f6f22f2c-7cd2-41f3-9830-67ada906bc5c",
   "metadata": {},
   "outputs": [
    {
     "name": "stdout",
     "output_type": "stream",
     "text": [
      "+--------+---+----------+------+\n",
      "|    Name|Age|Experience|Salary|\n",
      "+--------+---+----------+------+\n",
      "| Bharath| 31|        10| 30000|\n",
      "|   Emlie| 30|         8| 25000|\n",
      "|Florence| 29|         4| 20000|\n",
      "|  Sydney| 24|         3| 20000|\n",
      "|    Matt| 21|         1| 15000|\n",
      "| Cillian| 23|         2| 18000|\n",
      "+--------+---+----------+------+\n",
      "\n"
     ]
    }
   ],
   "source": [
    "training.show()"
   ]
  },
  {
   "cell_type": "code",
   "execution_count": 64,
   "id": "e5bc91c2-a5d4-4140-8d17-705797d9ab7b",
   "metadata": {},
   "outputs": [],
   "source": [
    "from pyspark.ml.feature import VectorAssembler\n",
    "featureassembler = VectorAssembler(inputCols=['Age','Experience'],outputCol=\"IndependentFeatures\")"
   ]
  },
  {
   "cell_type": "code",
   "execution_count": 65,
   "id": "d66879d9-db70-40fd-a19c-dd8e4608e5ab",
   "metadata": {},
   "outputs": [],
   "source": [
    "output = featureassembler.transform(training)"
   ]
  },
  {
   "cell_type": "code",
   "execution_count": 66,
   "id": "564602c3-3ec7-4ff6-b53e-4980f38b7e2c",
   "metadata": {},
   "outputs": [
    {
     "name": "stdout",
     "output_type": "stream",
     "text": [
      "+--------+---+----------+------+-------------------+\n",
      "|    Name|Age|Experience|Salary|IndependentFeatures|\n",
      "+--------+---+----------+------+-------------------+\n",
      "| Bharath| 31|        10| 30000|        [31.0,10.0]|\n",
      "|   Emlie| 30|         8| 25000|         [30.0,8.0]|\n",
      "|Florence| 29|         4| 20000|         [29.0,4.0]|\n",
      "|  Sydney| 24|         3| 20000|         [24.0,3.0]|\n",
      "|    Matt| 21|         1| 15000|         [21.0,1.0]|\n",
      "| Cillian| 23|         2| 18000|         [23.0,2.0]|\n",
      "+--------+---+----------+------+-------------------+\n",
      "\n"
     ]
    }
   ],
   "source": [
    "output.show()"
   ]
  },
  {
   "cell_type": "code",
   "execution_count": 67,
   "id": "c07cbd89-f1ff-4a77-b6dd-af53cb0ba934",
   "metadata": {},
   "outputs": [
    {
     "name": "stdout",
     "output_type": "stream",
     "text": [
      "+-------------------+------+\n",
      "|IndependentFeatures|Salary|\n",
      "+-------------------+------+\n",
      "|        [31.0,10.0]| 30000|\n",
      "|         [30.0,8.0]| 25000|\n",
      "|         [29.0,4.0]| 20000|\n",
      "|         [24.0,3.0]| 20000|\n",
      "|         [21.0,1.0]| 15000|\n",
      "|         [23.0,2.0]| 18000|\n",
      "+-------------------+------+\n",
      "\n"
     ]
    }
   ],
   "source": [
    "finalized_data = output.select(\"IndependentFeatures\",\"Salary\")\n",
    "finalized_data.show()"
   ]
  },
  {
   "cell_type": "code",
   "execution_count": 68,
   "id": "ebdc4e1a-5531-4fe1-a9b0-86566eb6c510",
   "metadata": {},
   "outputs": [],
   "source": [
    "from pyspark.ml.regression import LinearRegression\n",
    "train_data, test_data = finalized_data.randomSplit([0.75,0.25])\n",
    "regressor = LinearRegression(featuresCol='IndependentFeatures',labelCol='Salary')\n",
    "regressor = regressor.fit(train_data)"
   ]
  },
  {
   "cell_type": "code",
   "execution_count": 69,
   "id": "ded8c440-b602-460f-8308-dd6dd742f89a",
   "metadata": {},
   "outputs": [
    {
     "data": {
      "text/plain": [
       "DenseVector([-258.8832, 1670.0508])"
      ]
     },
     "execution_count": 69,
     "metadata": {},
     "output_type": "execute_result"
    }
   ],
   "source": [
    "regressor.coefficients"
   ]
  },
  {
   "cell_type": "code",
   "execution_count": 70,
   "id": "c13a25bd-4ab9-4432-9200-949e11e3d542",
   "metadata": {},
   "outputs": [
    {
     "data": {
      "text/plain": [
       "20543.147208121274"
      ]
     },
     "execution_count": 70,
     "metadata": {},
     "output_type": "execute_result"
    }
   ],
   "source": [
    "regressor.intercept"
   ]
  },
  {
   "cell_type": "code",
   "execution_count": 71,
   "id": "b9f77026-946a-419c-a12f-e50ed5103cfc",
   "metadata": {},
   "outputs": [],
   "source": [
    "pred_results = regressor.evaluate(test_data)"
   ]
  },
  {
   "cell_type": "code",
   "execution_count": 72,
   "id": "9beac281-b858-4468-96f1-9ff0b857132a",
   "metadata": {},
   "outputs": [
    {
     "name": "stdout",
     "output_type": "stream",
     "text": [
      "+-------------------+------+------------------+\n",
      "|IndependentFeatures|Salary|        prediction|\n",
      "+-------------------+------+------------------+\n",
      "|         [21.0,1.0]| 15000|16776.649746192812|\n",
      "|         [24.0,3.0]| 20000|19340.101522842593|\n",
      "+-------------------+------+------------------+\n",
      "\n"
     ]
    },
    {
     "name": "stderr",
     "output_type": "stream",
     "text": [
      "C:\\Users\\bhara\\anaconda3\\envs\\pyspark-env\\Lib\\site-packages\\pyspark\\sql\\context.py:125: FutureWarning: Deprecated in 3.0.0. Use SparkSession.builder.getOrCreate() instead.\n",
      "  warnings.warn(\n"
     ]
    }
   ],
   "source": [
    "pred_results.predictions.show()"
   ]
  },
  {
   "cell_type": "code",
   "execution_count": 73,
   "id": "d5188e25-0204-4dae-a013-e7476a1ac2d8",
   "metadata": {},
   "outputs": [
    {
     "data": {
      "text/plain": [
       "(1218.2741116751095, 1795975.1604008244)"
      ]
     },
     "execution_count": 73,
     "metadata": {},
     "output_type": "execute_result"
    }
   ],
   "source": [
    "pred_results.meanAbsoluteError,pred_results.meanSquaredError"
   ]
  },
  {
   "cell_type": "markdown",
   "id": "d477e8e0-7e6f-44ca-91df-d398cba32130",
   "metadata": {},
   "source": [
    "### Linear Regression"
   ]
  },
  {
   "cell_type": "code",
   "execution_count": 76,
   "id": "66c76dfb-84a8-4bc5-8440-e3def86c69a9",
   "metadata": {},
   "outputs": [],
   "source": [
    "f_path ='tips.csv'\n",
    "tips = spark.read.csv(f_path, header=True, inferSchema=True)"
   ]
  },
  {
   "cell_type": "code",
   "execution_count": 77,
   "id": "e2b2a86b-c4ed-4736-8b00-aff417c92458",
   "metadata": {},
   "outputs": [
    {
     "name": "stdout",
     "output_type": "stream",
     "text": [
      "+----------+----+------+------+---+------+----+\n",
      "|total_bill| tip|   sex|smoker|day|  time|size|\n",
      "+----------+----+------+------+---+------+----+\n",
      "|     16.99|1.01|Female|    No|Sun|Dinner|   2|\n",
      "|     10.34|1.66|  Male|    No|Sun|Dinner|   3|\n",
      "|     21.01| 3.5|  Male|    No|Sun|Dinner|   3|\n",
      "|     23.68|3.31|  Male|    No|Sun|Dinner|   2|\n",
      "|     24.59|3.61|Female|    No|Sun|Dinner|   4|\n",
      "|     25.29|4.71|  Male|    No|Sun|Dinner|   4|\n",
      "|      8.77| 2.0|  Male|    No|Sun|Dinner|   2|\n",
      "|     26.88|3.12|  Male|    No|Sun|Dinner|   4|\n",
      "|     15.04|1.96|  Male|    No|Sun|Dinner|   2|\n",
      "|     14.78|3.23|  Male|    No|Sun|Dinner|   2|\n",
      "|     10.27|1.71|  Male|    No|Sun|Dinner|   2|\n",
      "|     35.26| 5.0|Female|    No|Sun|Dinner|   4|\n",
      "|     15.42|1.57|  Male|    No|Sun|Dinner|   2|\n",
      "|     18.43| 3.0|  Male|    No|Sun|Dinner|   4|\n",
      "|     14.83|3.02|Female|    No|Sun|Dinner|   2|\n",
      "|     21.58|3.92|  Male|    No|Sun|Dinner|   2|\n",
      "|     10.33|1.67|Female|    No|Sun|Dinner|   3|\n",
      "|     16.29|3.71|  Male|    No|Sun|Dinner|   3|\n",
      "|     16.97| 3.5|Female|    No|Sun|Dinner|   3|\n",
      "|     20.65|3.35|  Male|    No|Sat|Dinner|   3|\n",
      "+----------+----+------+------+---+------+----+\n",
      "only showing top 20 rows\n",
      "\n"
     ]
    }
   ],
   "source": [
    "tips.show()"
   ]
  },
  {
   "cell_type": "code",
   "execution_count": 78,
   "id": "f43d0648-d722-40de-9d44-6430581b67c5",
   "metadata": {},
   "outputs": [],
   "source": [
    "from pyspark.ml.feature import StringIndexer"
   ]
  },
  {
   "cell_type": "code",
   "execution_count": 85,
   "id": "895f4d9e-5af7-451c-85e7-ef1c5847e689",
   "metadata": {},
   "outputs": [],
   "source": [
    "# Handling Categorical Values - Ordinal encoding\n",
    "indexer = StringIndexer(inputCols=['sex','smoker','day','time'],outputCols=['sex_indexed','smoker_indexed','day_indexed','time_indexed'])"
   ]
  },
  {
   "cell_type": "code",
   "execution_count": 86,
   "id": "e7dcead0-72ea-428e-8a31-c759c885980b",
   "metadata": {},
   "outputs": [
    {
     "name": "stdout",
     "output_type": "stream",
     "text": [
      "+----------+----+------+------+---+------+----+-----------+--------------+-----------+------------+\n",
      "|total_bill| tip|   sex|smoker|day|  time|size|sex_indexed|smoker_indexed|day_indexed|time_indexed|\n",
      "+----------+----+------+------+---+------+----+-----------+--------------+-----------+------------+\n",
      "|     16.99|1.01|Female|    No|Sun|Dinner|   2|        1.0|           0.0|        1.0|         0.0|\n",
      "|     10.34|1.66|  Male|    No|Sun|Dinner|   3|        0.0|           0.0|        1.0|         0.0|\n",
      "|     21.01| 3.5|  Male|    No|Sun|Dinner|   3|        0.0|           0.0|        1.0|         0.0|\n",
      "|     23.68|3.31|  Male|    No|Sun|Dinner|   2|        0.0|           0.0|        1.0|         0.0|\n",
      "|     24.59|3.61|Female|    No|Sun|Dinner|   4|        1.0|           0.0|        1.0|         0.0|\n",
      "|     25.29|4.71|  Male|    No|Sun|Dinner|   4|        0.0|           0.0|        1.0|         0.0|\n",
      "|      8.77| 2.0|  Male|    No|Sun|Dinner|   2|        0.0|           0.0|        1.0|         0.0|\n",
      "|     26.88|3.12|  Male|    No|Sun|Dinner|   4|        0.0|           0.0|        1.0|         0.0|\n",
      "|     15.04|1.96|  Male|    No|Sun|Dinner|   2|        0.0|           0.0|        1.0|         0.0|\n",
      "|     14.78|3.23|  Male|    No|Sun|Dinner|   2|        0.0|           0.0|        1.0|         0.0|\n",
      "|     10.27|1.71|  Male|    No|Sun|Dinner|   2|        0.0|           0.0|        1.0|         0.0|\n",
      "|     35.26| 5.0|Female|    No|Sun|Dinner|   4|        1.0|           0.0|        1.0|         0.0|\n",
      "|     15.42|1.57|  Male|    No|Sun|Dinner|   2|        0.0|           0.0|        1.0|         0.0|\n",
      "|     18.43| 3.0|  Male|    No|Sun|Dinner|   4|        0.0|           0.0|        1.0|         0.0|\n",
      "|     14.83|3.02|Female|    No|Sun|Dinner|   2|        1.0|           0.0|        1.0|         0.0|\n",
      "|     21.58|3.92|  Male|    No|Sun|Dinner|   2|        0.0|           0.0|        1.0|         0.0|\n",
      "|     10.33|1.67|Female|    No|Sun|Dinner|   3|        1.0|           0.0|        1.0|         0.0|\n",
      "|     16.29|3.71|  Male|    No|Sun|Dinner|   3|        0.0|           0.0|        1.0|         0.0|\n",
      "|     16.97| 3.5|Female|    No|Sun|Dinner|   3|        1.0|           0.0|        1.0|         0.0|\n",
      "|     20.65|3.35|  Male|    No|Sat|Dinner|   3|        0.0|           0.0|        0.0|         0.0|\n",
      "+----------+----+------+------+---+------+----+-----------+--------------+-----------+------------+\n",
      "only showing top 20 rows\n",
      "\n"
     ]
    }
   ],
   "source": [
    "tips_2=indexer.fit(tips).transform(tips)\n",
    "tips_2.show()"
   ]
  },
  {
   "cell_type": "code",
   "execution_count": 87,
   "id": "b8b336cc-7e6a-494b-9a7c-e1790da95c71",
   "metadata": {},
   "outputs": [],
   "source": [
    "from pyspark.ml.feature import VectorAssembler\n",
    "featureAssembler = VectorAssembler(inputCols=\n",
    "                                   ['tip','size','sex_indexed','smoker_indexed','day_indexed','time_indexed'],\n",
    "                                   outputCol=\"Independent_Features\")\n",
    "output = featureAssembler.transform(tips_2)"
   ]
  },
  {
   "cell_type": "code",
   "execution_count": 88,
   "id": "90f5cf30-4298-4635-9ce7-bd5d0a785525",
   "metadata": {},
   "outputs": [
    {
     "name": "stdout",
     "output_type": "stream",
     "text": [
      "+--------------------+----------+\n",
      "|Independent_Features|total_bill|\n",
      "+--------------------+----------+\n",
      "|[1.01,2.0,1.0,0.0...|     16.99|\n",
      "|[1.66,3.0,0.0,0.0...|     10.34|\n",
      "|[3.5,3.0,0.0,0.0,...|     21.01|\n",
      "|[3.31,2.0,0.0,0.0...|     23.68|\n",
      "|[3.61,4.0,1.0,0.0...|     24.59|\n",
      "|[4.71,4.0,0.0,0.0...|     25.29|\n",
      "|[2.0,2.0,0.0,0.0,...|      8.77|\n",
      "|[3.12,4.0,0.0,0.0...|     26.88|\n",
      "|[1.96,2.0,0.0,0.0...|     15.04|\n",
      "|[3.23,2.0,0.0,0.0...|     14.78|\n",
      "|[1.71,2.0,0.0,0.0...|     10.27|\n",
      "|[5.0,4.0,1.0,0.0,...|     35.26|\n",
      "|[1.57,2.0,0.0,0.0...|     15.42|\n",
      "|[3.0,4.0,0.0,0.0,...|     18.43|\n",
      "|[3.02,2.0,1.0,0.0...|     14.83|\n",
      "|[3.92,2.0,0.0,0.0...|     21.58|\n",
      "|[1.67,3.0,1.0,0.0...|     10.33|\n",
      "|[3.71,3.0,0.0,0.0...|     16.29|\n",
      "|[3.5,3.0,1.0,0.0,...|     16.97|\n",
      "|(6,[0,1],[3.35,3.0])|     20.65|\n",
      "+--------------------+----------+\n",
      "only showing top 20 rows\n",
      "\n"
     ]
    }
   ],
   "source": [
    "finalized_data = output.select(\"Independent_Features\",\"total_bill\")\n",
    "finalized_data.show()"
   ]
  },
  {
   "cell_type": "code",
   "execution_count": 89,
   "id": "8247c3ef-2ab7-4b4b-a2cb-63ef19eefd72",
   "metadata": {},
   "outputs": [],
   "source": [
    "from pyspark.ml.regression import LinearRegression\n",
    "train_data, test_data = finalized_data.randomSplit([0.75,0.25])\n",
    "regressor = LinearRegression(featuresCol='Independent_Features', labelCol='total_bill')\n",
    "regressor = regressor.fit(train_data)"
   ]
  },
  {
   "cell_type": "code",
   "execution_count": 90,
   "id": "7753abce-f902-40e8-912a-e61d835f854b",
   "metadata": {},
   "outputs": [
    {
     "data": {
      "text/plain": [
       "DenseVector([3.0675, 3.1701, -1.7096, 1.9556, 0.0829, -1.6518])"
      ]
     },
     "execution_count": 90,
     "metadata": {},
     "output_type": "execute_result"
    }
   ],
   "source": [
    "regressor.coefficients"
   ]
  },
  {
   "cell_type": "code",
   "execution_count": 91,
   "id": "8197f6af-de65-476c-b6ea-423c08aa0cbc",
   "metadata": {},
   "outputs": [
    {
     "data": {
      "text/plain": [
       "2.609481858663409"
      ]
     },
     "execution_count": 91,
     "metadata": {},
     "output_type": "execute_result"
    }
   ],
   "source": [
    "regressor.intercept"
   ]
  },
  {
   "cell_type": "code",
   "execution_count": 93,
   "id": "7fe355f1-c0a2-434a-a716-ceba8d132839",
   "metadata": {},
   "outputs": [],
   "source": [
    "# Prediction\n",
    "pred_res = regressor.evaluate(test_data)"
   ]
  },
  {
   "cell_type": "code",
   "execution_count": 94,
   "id": "56906e31-c8be-4d9e-a7c2-dcb2acbaf5aa",
   "metadata": {},
   "outputs": [
    {
     "name": "stdout",
     "output_type": "stream",
     "text": [
      "+--------------------+----------+------------------+\n",
      "|Independent_Features|total_bill|        prediction|\n",
      "+--------------------+----------+------------------+\n",
      "|(6,[0,1],[1.45,2.0])|      9.55|13.397607946970869|\n",
      "|(6,[0,1],[1.75,2.0])|     17.82| 14.31786107786833|\n",
      "|(6,[0,1],[1.97,2.0])|     12.02|  14.9927133738598|\n",
      "|(6,[0,1],[2.24,3.0])|     16.04|18.991059169485712|\n",
      "| (6,[0,1],[3.0,2.0])|      14.0|18.152249123274412|\n",
      "| (6,[0,1],[3.0,4.0])|     20.45| 24.49248507891081|\n",
      "|(6,[0,1],[6.73,4.0])|     48.27| 35.93429900640257|\n",
      "|(6,[0,1],[7.58,4.0])|     39.42| 38.54168287727871|\n",
      "|[1.0,2.0,1.0,1.0,...|      5.75|12.511739227919783|\n",
      "|[1.32,2.0,0.0,0.0...|      9.68| 13.08168741242842|\n",
      "|[1.36,3.0,1.0,0.0...|     18.64|13.095909258370925|\n",
      "|[1.5,2.0,0.0,0.0,...|     12.46|13.799550935326465|\n",
      "|[1.5,2.0,0.0,1.0,...|     11.59|15.506571954664349|\n",
      "|[1.83,1.0,1.0,0.0...|     10.07| 8.197403207807211|\n",
      "|[1.98,2.0,0.0,1.0...|     11.02|16.978976964100287|\n",
      "|[2.0,2.0,0.0,0.0,...|      7.51|13.598642934922125|\n",
      "|[2.0,2.0,0.0,1.0,...|     22.67|17.040327172826782|\n",
      "|[2.0,2.0,0.0,1.0,...|     14.48|17.123182995006566|\n",
      "|[2.0,2.0,0.0,1.0,...|     17.89|17.123182995006566|\n",
      "|[2.0,2.0,0.0,1.0,...|      16.0|15.554231420799363|\n",
      "+--------------------+----------+------------------+\n",
      "only showing top 20 rows\n",
      "\n"
     ]
    },
    {
     "name": "stderr",
     "output_type": "stream",
     "text": [
      "C:\\Users\\bhara\\anaconda3\\envs\\pyspark-env\\Lib\\site-packages\\pyspark\\sql\\context.py:125: FutureWarning: Deprecated in 3.0.0. Use SparkSession.builder.getOrCreate() instead.\n",
      "  warnings.warn(\n"
     ]
    }
   ],
   "source": [
    "pred_res.predictions.show()"
   ]
  },
  {
   "cell_type": "raw",
   "id": "10c43b93-b9f0-4464-9696-056eef972ba9",
   "metadata": {},
   "source": [
    "In the above table total_bill is the actual value and prediction column is the prediction of the corresponding actual_bill"
   ]
  },
  {
   "cell_type": "code",
   "execution_count": 95,
   "id": "997f2246-6713-4e9d-91fd-fe153e291fe0",
   "metadata": {},
   "outputs": [
    {
     "data": {
      "text/plain": [
       "(0.5352515033959393, 4.35359568329469, 36.17349705467136)"
      ]
     },
     "execution_count": 95,
     "metadata": {},
     "output_type": "execute_result"
    }
   ],
   "source": [
    "# Performance metrics\n",
    "pred_res.r2, pred_res.meanAbsoluteError,pred_res.meanSquaredError"
   ]
  },
  {
   "cell_type": "code",
   "execution_count": null,
   "id": "361f5f26-1f2a-4656-9cfc-fc44d6707bd6",
   "metadata": {},
   "outputs": [],
   "source": []
  }
 ],
 "metadata": {
  "kernelspec": {
   "display_name": "pyspark-env",
   "language": "python",
   "name": "pyspark-env"
  },
  "language_info": {
   "codemirror_mode": {
    "name": "ipython",
    "version": 3
   },
   "file_extension": ".py",
   "mimetype": "text/x-python",
   "name": "python",
   "nbconvert_exporter": "python",
   "pygments_lexer": "ipython3",
   "version": "3.11.4"
  }
 },
 "nbformat": 4,
 "nbformat_minor": 5
}
